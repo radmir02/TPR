{
 "cells": [
  {
   "cell_type": "markdown",
   "metadata": {},
   "source": [
    "Вы работаете секретарем и вам постоянно приходят различные документы. Вы должны быть очень внимательны, чтобы не потерять ни один документ. Каталог документов хранится в следующем виде:"
   ]
  },
  {
   "cell_type": "code",
   "execution_count": 2,
   "metadata": {},
   "outputs": [],
   "source": [
    "documents = [\n",
    "    {'type': 'passport', 'number': '2207 876234', 'name': 'Василий Гупкин'},\n",
    "    {'type': 'invoice', 'number': '11-2', 'name': 'Геннадий Покемонов'},\n",
    "    {'type': 'insurance', 'number': '10006', 'name': 'Аристарх Павлов'}\n",
    "]"
   ]
  },
  {
   "cell_type": "code",
   "execution_count": 4,
   "metadata": {},
   "outputs": [
    {
     "name": "stdout",
     "output_type": "stream",
     "text": [
      "passport   2207 876234   Василий Гупкин\n",
      "invoice   11-2   Геннадий Покемонов\n",
      "insurance   10006   Аристарх Павлов\n"
     ]
    }
   ],
   "source": [
    "def print_documents(documents):\n",
    "    for documents in documents:\n",
    "        print(documents['type'],\" \", documents['number'],\" \", documents['name'])\n",
    "print_documents(documents) "
   ]
  },
  {
   "cell_type": "markdown",
   "metadata": {},
   "source": [
    "Перечень полок, на которых находятся документы хранится в следующем виде:"
   ]
  },
  {
   "cell_type": "code",
   "execution_count": 5,
   "metadata": {},
   "outputs": [],
   "source": [
    "directories = {\n",
    "    '1': ['2207 876234', '11-2'],\n",
    "    '2': ['10006'],\n",
    "    '3': []\n",
    "}"
   ]
  },
  {
   "cell_type": "code",
   "execution_count": 3,
   "metadata": {},
   "outputs": [
    {
     "name": "stdout",
     "output_type": "stream",
     "text": [
      "1 ['2207 876234', '11-2']\n",
      "2 ['10006']\n",
      "3 []\n",
      "4 []\n"
     ]
    }
   ],
   "source": [
    "def print_directories(directories):\n",
    "    for key,value in directories.items():\n",
    "        print(key,value)\n",
    "print_directories(directories)"
   ]
  },
  {
   "cell_type": "code",
   "execution_count": 1,
   "metadata": {},
   "outputs": [],
   "source": [
    "# p – people – команда, которая спросит номер документа и выведет имя человека, которому он принадлежит;\n",
    "def p(documnet_number):\n",
    "    for i in documents:\n",
    "            if i['number'] == documnet_number:\n",
    "                print(\"Этот документ относится к : \", i['name'] )\n",
    "                break\n",
    "    else:\n",
    "        print(\"Данного номера документа нет \")\n",
    "#l – list – команда, которая выведет список всех документов в формате\n",
    "#########            \n",
    "def l():\n",
    "    for x in documents:\n",
    "        type = x['type']\n",
    "        number = x['number']\n",
    "        name = x['name']\n",
    "        print('{0}\"{1}\" \"{2}\"'.format(type, number, name))\n",
    "        print(p(document_number))\n",
    "#########  \n",
    "#s – shelf – команда, которая спросит номер документа и выведет номер полки\n",
    "def shelf(number):\n",
    "    for key, value in directories.items():\n",
    "        if number in value:\n",
    "            print(\"Номер полки на котором хранится документ: \", key)\n",
    "            break\n",
    "    else:\n",
    "        print(\"Нет такого номера документа\")\n",
    "#########        \n",
    "#as – add shelf – команда, которая спросит номер новой полки и добавит ее в перечень\n",
    "def add_shelf(number):\n",
    "    if number in directories:\n",
    "        print(\"Такая полка уже существует!\")\n",
    "    else:\n",
    "        directories[number] = []\n",
    "#########\n",
    "def d(number):\n",
    "    for i,doc in enumerate(documents):\n",
    "        if doc['number'] == number:\n",
    "            documents.pop(i)\n",
    "            print('Пользователь удален из каталога')\n",
    "            break\n",
    "    else:\n",
    "        print(\"Нет такого номера документа\")\n",
    "        return       #если нет такого номера, то значит и нет смысла смотреть в полках\n",
    "    for key,value in directories.items():\n",
    "        if number in value:\n",
    "            directories[key].remove(number)\n",
    "            print(\"Номер пользователя удален из полки\")\n",
    "#########\n",
    "def m(doc_number, shelf_id):\n",
    "    doc_existence = False\n",
    "\n",
    "    if shelf_id not in directories:\n",
    "        return \"Полки не существует\"\n",
    "  \n",
    "    for key, value in directories.items():\n",
    "        if doc_number in value:\n",
    "            doc_existence = True\n",
    "            directories[shelf_id] += [doc_number]\n",
    "            value.remove(doc_number)\n",
    "\n",
    "    if doc_existence:\n",
    "        return \"Документ успешно перемещен\"\n",
    "    else :\n",
    "        return \"Документ не существует\"\n",
    "#########\n",
    "#add\n",
    "def a(doc_type, doc_number, doc_owner, shelf_id):\n",
    "    if shelf_id not in directories:\n",
    "        return \"Полки не существует\" \n",
    "    new_doc = dict(type=doc_type, number=doc_number, name=doc_owner)\n",
    "    documents.append(new_doc)\n",
    "    directories[shelf_id] += [doc_number]\n",
    "    return \"Документ успешно добавлен\""
   ]
  },
  {
   "cell_type": "code",
   "execution_count": null,
   "metadata": {},
   "outputs": [
    {
     "name": "stdout",
     "output_type": "stream",
     "text": [
      "Введите команду: p -people, s - shelf, l- list, as - add shelf, d -delete, m -move, a- addp\n",
      "Введите номер документа\n",
      "0\n",
      "Данного номера документа нет \n",
      "Введите команду: p -people, s - shelf, l- list, as - add shelf, d -delete, m -move, a- addp\n",
      "Введите номер документа\n",
      "10006\n",
      "Этот документ относится к :  Аристарх Павлов\n",
      "Введите команду: p -people, s - shelf, l- list, as - add shelf, d -delete, m -move, a- adds\n",
      "Введите номер документа\n",
      "11-2\n",
      "Номер полки на котором хранится документ:  1\n",
      "Введите команду: p -people, s - shelf, l- list, as - add shelf, d -delete, m -move, a- addl\n",
      "passport   2207 876234   Василий Гупкин\n",
      "invoice   11-2   Геннадий Покемонов\n",
      "insurance   10006   Аристарх Павлов\n",
      "Введите команду: p -people, s - shelf, l- list, as - add shelf, d -delete, m -move, a- addas\n",
      "Введите номер новой полки4\n",
      "1 ['2207 876234', '11-2']\n",
      "2 ['10006']\n",
      "3 []\n",
      "4 []\n",
      "Введите команду: p -people, s - shelf, l- list, as - add shelf, d -delete, m -move, a- addd\n",
      "Введите номер документа 10006\n",
      "Пользователь удален из каталога\n",
      "Номер пользователя удален из полки\n",
      "Введите команду: p -people, s - shelf, l- list, as - add shelf, d -delete, m -move, a- addm\n",
      "Введите номер документа,который хоитите переместить: 1\n",
      "Введит номер полки, на которую хоиите перемести документ: 4\n",
      "Документ не существует\n",
      "{'1': ['2207 876234', '11-2'], '2': [], '3': [], '4': []}\n",
      "Введите команду: p -people, s - shelf, l- list, as - add shelf, d -delete, m -move, a- addm\n",
      "Введите номер документа,который хоитите переместить: 11-2\n",
      "Введит номер полки, на которую хоиите перемести документ: 4\n",
      "Документ успешно перемещен\n",
      "{'1': ['2207 876234'], '2': [], '3': [], '4': ['11-2']}\n"
     ]
    }
   ],
   "source": [
    "documents = [\n",
    "    {'type': 'passport', 'number': '2207 876234', 'name': 'Василий Гупкин'},\n",
    "    {'type': 'invoice', 'number': '11-2', 'name': 'Геннадий Покемонов'},\n",
    "    {'type': 'insurance', 'number': '10006', 'name': 'Аристарх Павлов'}\n",
    "]\n",
    "directories = {\n",
    "    '1': ['2207 876234', '11-2'],\n",
    "    '2': ['10006'],\n",
    "    '3': []\n",
    "}\n",
    "while True:\n",
    "    user = input(\"Введите команду: p -people, s - shelf, l- list, as - add shelf, d -delete, m -move, a- add\")\n",
    "    if user == 'p':\n",
    "        print(\"Введите номер документа\")\n",
    "        num =input()\n",
    "        p(num)\n",
    "    elif user =='s':\n",
    "        print(\"Введите номер документа\")\n",
    "        x = input()\n",
    "        shelf(x)\n",
    "    elif user =='l':\n",
    "        print_documents(documents)\n",
    "    elif user== 'as':\n",
    "        new = input(\"Введите номер новой полки\")\n",
    "        add_shelf(new)\n",
    "        print_directories(directories)\n",
    "    elif user == 'd':\n",
    "        doc_number = input(\"Введите номер документа \")\n",
    "        d(doc_number)\n",
    "    elif user == 'm':\n",
    "        doc_number = input(\"Введите номер документа,который хоитите переместить: \")\n",
    "        shelf_id = input(\"Введит номер полки, на которую хоиите перемести документ: \")\n",
    "        print(m(doc_number, shelf_id))\n",
    "        print(directories)\n",
    "    elif user == 'a':\n",
    "        doc_type = input(\"Введите тип документа: \")\n",
    "        doc_number = input(\"Введите номер документа: \")\n",
    "        doc_owner = input(\"Введите имя владельца документа: \")\n",
    "        shelf_id = input(\"Введите номер полки {} : \".format(directories.keys()))\n",
    "        print(a(doc_type, doc_number, doc_owner, shelf_id))\n",
    "        print('')\n",
    "        print(documents)\n",
    "        print('')\n",
    "        print(directories)\n",
    "    else:\n",
    "        print(\"Нет такой команды\")"
   ]
  },
  {
   "cell_type": "markdown",
   "metadata": {},
   "source": [
    "Необходимо реализовать пользовательские команды (внимание! это не название функций, которые должны быть выразительными, а команды, которые вводит пользователь, чтобы получить необходимый результат):\n",
    "\n",
    "* p – people – команда, которая спросит номер документа и выведет имя человека, которому он принадлежит;\n",
    "* s – shelf – команда, которая спросит номер документа и выведет номер полки, на которой он находится\n",
    "Правильно обработайте ситуации, когда пользователь будет вводить несуществующий документ.\n",
    "* l – list – команда, которая выведет список всех документов в формате\n",
    "**passport \"2207 876234\" \"Василий Гупкин\"**\n",
    "* as – add shelf – команда, которая спросит номер новой полки и добавит ее в перечень. Предусмотрите случай, когда пользователь добавляет полку, которая уже существует.\n",
    "* d – delete – команда, которая спросит номер документа и удалит его из каталога и из перечня полок. Предусмотрите сценарий, когда пользователь вводит несуществующий документ;\n",
    "* m – move – команда, которая спросит номер документа и целевую полку и переместит его с текущей полки на целевую. Корректно обработайте кейсы, когда пользователь пытается переместить несуществующий документ или переместить документ на несуществующую полку;\n",
    "*  add – команда, которая добавит новый документ в каталог и в перечень полок, спросив его номер, тип, имя владельца и номер полки, на котором он будет храниться. Корректно обработайте ситуацию, когда пользователь будет пытаться добавить документ на несуществующую полку."
   ]
  }
 ],
 "metadata": {
  "kernelspec": {
   "display_name": "Python 3",
   "language": "python",
   "name": "python3"
  },
  "language_info": {
   "codemirror_mode": {
    "name": "ipython",
    "version": 3
   },
   "file_extension": ".py",
   "mimetype": "text/x-python",
   "name": "python",
   "nbconvert_exporter": "python",
   "pygments_lexer": "ipython3",
   "version": "3.8.3"
  }
 },
 "nbformat": 4,
 "nbformat_minor": 4
}
