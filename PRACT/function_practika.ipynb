{
 "cells": [
  {
   "cell_type": "markdown",
   "metadata": {},
   "source": [
    "Вы работаете секретарем и вам постоянно приходят различные документы. Вы должны быть очень внимательны, чтобы не потерять ни один документ. Каталог документов хранится в следующем виде:"
   ]
  },
  {
   "cell_type": "code",
   "execution_count": 3,
   "metadata": {},
   "outputs": [],
   "source": [
    "documents = [\n",
    "    {'type': 'passport', 'number': '2207 876234', 'name': 'Василий Гупкин'},\n",
    "    {'type': 'invoice', 'number': '11-2', 'name': 'Геннадий Покемонов'},\n",
    "    {'type': 'insurance', 'number': '10006', 'name': 'Аристарх Павлов'}\n",
    "]"
   ]
  },
  {
   "cell_type": "code",
   "execution_count": 3,
   "metadata": {},
   "outputs": [],
   "source": [
    "def print_documents(documents):\n",
    "    for doc in documents:\n",
    "        print(doc)"
   ]
  },
  {
   "cell_type": "markdown",
   "metadata": {},
   "source": [
    "Перечень полок, на которых находятся документы хранится в следующем виде:"
   ]
  },
  {
   "cell_type": "code",
   "execution_count": 4,
   "metadata": {},
   "outputs": [],
   "source": [
    "directories = {\n",
    "    '1': ['2207 876234', '11-2'],\n",
    "    '2': ['10006'],\n",
    "    '3': []\n",
    "}"
   ]
  },
  {
   "cell_type": "code",
   "execution_count": null,
   "metadata": {},
   "outputs": [],
   "source": [
    "def print_directories(directories):\n",
    "    for key,value in directories.items():\n",
    "        print(key,value)"
   ]
  },
  {
   "cell_type": "code",
   "execution_count": 17,
   "metadata": {},
   "outputs": [
    {
     "name": "stdout",
     "output_type": "stream",
     "text": [
      "Введите номер документа, который хотите удалить: 0\n",
      "Документ не существует\n",
      "[{'type': 'passport', 'number': '2207 876234', 'name': 'Василий Гупкин'}, {'type': 'invoice', 'number': '1', 'name': 'name name'}]\n",
      "{'1': ['2207 876234'], '2': [], '3': ['1']}\n",
      "Введите номер документа,который хоитите переместить: 0\n",
      "Введит номер полки, на которую хоиите перемести документ: 0\n",
      "Полки не существует\n",
      "{'1': ['2207 876234'], '2': [], '3': ['1']}\n",
      "Введите тип докемента: 0\n",
      "Введите номер документа: 0\n",
      "Введите имя владельца документа: 0\n",
      "Введит номер полки dict_keys(['1', '2', '3']) : 0\n",
      "Полки не существует\n",
      "\n",
      "[{'type': 'passport', 'number': '2207 876234', 'name': 'Василий Гупкин'}, {'type': 'invoice', 'number': '1', 'name': 'name name'}]\n",
      "\n",
      "{'1': ['2207 876234'], '2': [], '3': ['1']}\n"
     ]
    }
   ],
   "source": [
    "# p – people – команда, которая спросит номер документа и выведет имя человека, которому он принадлежит;\n",
    "def p(documnet_number):\n",
    "    for x in documents:\n",
    "        if x['number'] == documnet_number:\n",
    "            print (x['name'])\n",
    "            return x['name']\n",
    "#l – list – команда, которая выведет список всех документов в формате\n",
    "#########            \n",
    "def l():\n",
    "    for x in documents:\n",
    "        type = x['type']\n",
    "        number = x['number']\n",
    "        name = x['name']\n",
    "        print('{0}\"{1}\" \"{2}\"'.format(type, number, name))\n",
    "        print(p(document_number))\n",
    "#########  \n",
    "#s – shelf – команда, которая спросит номер документа и выведет номер полки\n",
    "def s(documnet_number):\n",
    "     for x in directories :\n",
    "        if x['number'] == documnet_number:\n",
    "            print (x[0])\n",
    "#########        \n",
    "#as – add shelf – команда, которая спросит номер новой полки и добавит ее в перечень\n",
    "def add_shelf():\n",
    "    number = input(\"Введите номер новой полки: \")\n",
    "    directories[number] = []\n",
    "#########\n",
    "def d(doc_number):\n",
    "    initial_len = len(documents)\n",
    "    for i, d in enumerate(documents):\n",
    "        if d[\"number\"] == doc_number:\n",
    "            documents.pop(i)\n",
    "\n",
    "    if initial_len == len(documents):\n",
    "        return \"Документ не существует\"\n",
    "\n",
    "    for key, value in directories.items():\n",
    "        if doc_number in value:\n",
    "            value.remove(doc_number)\n",
    "\n",
    "    return \"Документ успешно удален\"\n",
    "\n",
    "doc_number = input(\"Введите номер документа, который хотите удалить: \")\n",
    "print(d(doc_number))\n",
    "print(documents)\n",
    "print(directories)\n",
    "#########\n",
    "def m(doc_number, shelf_id):\n",
    "    doc_existence = False\n",
    "\n",
    "    if shelf_id not in directories:\n",
    "        return \"Полки не существует\"\n",
    "  \n",
    "    for key, value in directories.items():\n",
    "        if doc_number in value:\n",
    "            doc_existence = True\n",
    "            directories[shelf_id] += [doc_number]\n",
    "            value.remove(doc_number)\n",
    "\n",
    "    if doc_existence:\n",
    "        return \"Документ успешно перемещен\"\n",
    "    else :\n",
    "        return \"Документ не существует\"\n",
    "\n",
    "doc_number = input(\"Введите номер документа,который хоитите переместить: \")\n",
    "shelf_id = input(\"Введит номер полки, на которую хоиите перемести документ: \")\n",
    "print(m(doc_number, shelf_id))\n",
    "print(directories)\n",
    "#########\n",
    "#add\n",
    "def a(doc_type, doc_number, doc_owner, shelf_id):\n",
    "    if shelf_id not in directories:\n",
    "        return \"Полки не существует\" \n",
    "  # Создаем словарь\n",
    "    new_doc = dict(type=doc_type, number=doc_number, name=doc_owner)\n",
    "  # Добавляем документ в список документов\n",
    "    documents.append(new_doc)\n",
    "  # Добавляем документ на полку\n",
    "    directories[shelf_id] += [doc_number]\n",
    "    return \"Документ успешно добавлен\"\n",
    "\n",
    "doc_type = input(\"Введите тип докемента: \")\n",
    "doc_number = input(\"Введите номер документа: \")\n",
    "doc_owner = input(\"Введите имя владельца документа: \")\n",
    "shelf_id = input(\"Введит номер полки {} : \".format(directories.keys()))\n",
    "print(a(doc_type, doc_number, doc_owner, shelf_id))\n",
    "print('')\n",
    "print(documents)\n",
    "print('')\n",
    "print(directories)"
   ]
  },
  {
   "cell_type": "code",
   "execution_count": 14,
   "metadata": {},
   "outputs": [
    {
     "name": "stdout",
     "output_type": "stream",
     "text": [
      "10006\n"
     ]
    }
   ],
   "source": [
    "documnet_number = input()\n",
    "for x in documents :\n",
    "    if x['number'] == documnet_number:\n",
    "            print (directories)\n",
    "    elif documnet_number == len(documents):\n",
    "        print(\"Документ не существует\")"
   ]
  },
  {
   "cell_type": "code",
   "execution_count": 18,
   "metadata": {},
   "outputs": [
    {
     "name": "stdout",
     "output_type": "stream",
     "text": [
      "Введите номер комманды: 1\n",
      "Введите номер документа 11-2\n",
      "Введите номер комманды: 3\n",
      "passport\"2207 876234\" \"Василий Гупкин\"\n"
     ]
    },
    {
     "ename": "NameError",
     "evalue": "name 'document_number' is not defined",
     "output_type": "error",
     "traceback": [
      "\u001b[1;31m---------------------------------------------------------------------------\u001b[0m",
      "\u001b[1;31mNameError\u001b[0m                                 Traceback (most recent call last)",
      "\u001b[1;32m<ipython-input-18-25eade103ca9>\u001b[0m in \u001b[0;36m<module>\u001b[1;34m\u001b[0m\n\u001b[0;32m     11\u001b[0m         \u001b[0mprint\u001b[0m\u001b[1;33m(\u001b[0m\u001b[0mdirectories\u001b[0m\u001b[1;33m)\u001b[0m\u001b[1;33m\u001b[0m\u001b[1;33m\u001b[0m\u001b[0m\n\u001b[0;32m     12\u001b[0m     \u001b[1;32melif\u001b[0m \u001b[0mnum\u001b[0m \u001b[1;33m==\u001b[0m \u001b[1;34m\"3\"\u001b[0m\u001b[1;33m:\u001b[0m\u001b[1;33m\u001b[0m\u001b[1;33m\u001b[0m\u001b[0m\n\u001b[1;32m---> 13\u001b[1;33m         \u001b[0ml\u001b[0m\u001b[1;33m(\u001b[0m\u001b[1;33m)\u001b[0m\u001b[1;33m\u001b[0m\u001b[1;33m\u001b[0m\u001b[0m\n\u001b[0m",
      "\u001b[1;32m<ipython-input-17-b7535192e8a7>\u001b[0m in \u001b[0;36ml\u001b[1;34m()\u001b[0m\n\u001b[0;32m     13\u001b[0m         \u001b[0mname\u001b[0m \u001b[1;33m=\u001b[0m \u001b[0mx\u001b[0m\u001b[1;33m[\u001b[0m\u001b[1;34m'name'\u001b[0m\u001b[1;33m]\u001b[0m\u001b[1;33m\u001b[0m\u001b[1;33m\u001b[0m\u001b[0m\n\u001b[0;32m     14\u001b[0m         \u001b[0mprint\u001b[0m\u001b[1;33m(\u001b[0m\u001b[1;34m'{0}\"{1}\" \"{2}\"'\u001b[0m\u001b[1;33m.\u001b[0m\u001b[0mformat\u001b[0m\u001b[1;33m(\u001b[0m\u001b[0mtype\u001b[0m\u001b[1;33m,\u001b[0m \u001b[0mnumber\u001b[0m\u001b[1;33m,\u001b[0m \u001b[0mname\u001b[0m\u001b[1;33m)\u001b[0m\u001b[1;33m)\u001b[0m\u001b[1;33m\u001b[0m\u001b[1;33m\u001b[0m\u001b[0m\n\u001b[1;32m---> 15\u001b[1;33m         \u001b[0mprint\u001b[0m\u001b[1;33m(\u001b[0m\u001b[0mp\u001b[0m\u001b[1;33m(\u001b[0m\u001b[0mdocument_number\u001b[0m\u001b[1;33m)\u001b[0m\u001b[1;33m)\u001b[0m\u001b[1;33m\u001b[0m\u001b[1;33m\u001b[0m\u001b[0m\n\u001b[0m\u001b[0;32m     16\u001b[0m \u001b[1;31m#########\u001b[0m\u001b[1;33m\u001b[0m\u001b[1;33m\u001b[0m\u001b[1;33m\u001b[0m\u001b[0m\n\u001b[0;32m     17\u001b[0m \u001b[1;31m#s – shelf – команда, которая спросит номер документа и выведет номер полки\u001b[0m\u001b[1;33m\u001b[0m\u001b[1;33m\u001b[0m\u001b[1;33m\u001b[0m\u001b[0m\n",
      "\u001b[1;31mNameError\u001b[0m: name 'document_number' is not defined"
     ]
    }
   ],
   "source": [
    "while True:\n",
    "    num = input(\"Введите номер комманды: \")\n",
    "    if num == \"1\":\n",
    "        documnet_number = input(\"Введите номер документа \")\n",
    "        p(documnet_number)\n",
    "    elif num == \"2\":\n",
    "        doc_number = input(\"Введите номер документа, который хотите удалить: \")\n",
    "        d(doc_number)\n",
    "        print(d(doc_number))\n",
    "        print(documents)\n",
    "        print(directories)\n",
    "    elif num == \"3\":\n",
    "        l()"
   ]
  },
  {
   "cell_type": "markdown",
   "metadata": {},
   "source": [
    "Необходимо реализовать пользовательские команды (внимание! это не название функций, которые должны быть выразительными, а команды, которые вводит пользователь, чтобы получить необходимый результат):\n",
    "\n",
    "* p – people – команда, которая спросит номер документа и выведет имя человека, которому он принадлежит;\n",
    "* s – shelf – команда, которая спросит номер документа и выведет номер полки, на которой он находится\n",
    "Правильно обработайте ситуации, когда пользователь будет вводить несуществующий документ.\n",
    "* l – list – команда, которая выведет список всех документов в формате\n",
    "**passport \"2207 876234\" \"Василий Гупкин\"**\n",
    "* as – add shelf – команда, которая спросит номер новой полки и добавит ее в перечень. Предусмотрите случай, когда пользователь добавляет полку, которая уже существует.\n",
    "* d – delete – команда, которая спросит номер документа и удалит его из каталога и из перечня полок. Предусмотрите сценарий, когда пользователь вводит несуществующий документ;\n",
    "* m – move – команда, которая спросит номер документа и целевую полку и переместит его с текущей полки на целевую. Корректно обработайте кейсы, когда пользователь пытается переместить несуществующий документ или переместить документ на несуществующую полку;\n",
    "*  add – команда, которая добавит новый документ в каталог и в перечень полок, спросив его номер, тип, имя владельца и номер полки, на котором он будет храниться. Корректно обработайте ситуацию, когда пользователь будет пытаться добавить документ на несуществующую полку."
   ]
  }
 ],
 "metadata": {
  "kernelspec": {
   "display_name": "Python 3",
   "language": "python",
   "name": "python3"
  },
  "language_info": {
   "codemirror_mode": {
    "name": "ipython",
    "version": 3
   },
   "file_extension": ".py",
   "mimetype": "text/x-python",
   "name": "python",
   "nbconvert_exporter": "python",
   "pygments_lexer": "ipython3",
   "version": "3.8.3"
  }
 },
 "nbformat": 4,
 "nbformat_minor": 4
}
