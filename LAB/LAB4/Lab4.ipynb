{
 "cells": [
  {
   "cell_type": "markdown",
   "metadata": {},
   "source": [
    "Печатные газеты использовали свой формат дат для каждого выпуска. Для каждой газеты из списка напишите формат указанной даты для перевода в объект datetime:\n",
    "The Moscow Times - Wednesday, October 2, 2002\n",
    "The Guardian - Friday, 11.10.13\n",
    "Daily News - Thursday, 18 August 1977"
   ]
  },
  {
   "cell_type": "code",
   "execution_count": 24,
   "metadata": {},
   "outputs": [
    {
     "name": "stdout",
     "output_type": "stream",
     "text": [
      "2002-10-02 00:00:00\n",
      "2013-10-11 00:00:00\n",
      "1977-08-18 00:00:00\n"
     ]
    }
   ],
   "source": [
    "import datetime\n",
    "from datetime import datetime \n",
    "date_in1 = 'Wednesday, October 2, 2002'\n",
    "date_in2 = 'Friday, 11.10.13'\n",
    "date_in3 = 'Thursday, 18 August 1977'\n",
    "date1 = datetime.strptime( date_in1,'%A, %B %d, %Y')\n",
    "date2 = datetime.strptime( date_in2,'%A, %d.%m.%y')\n",
    "date3 = datetime.strptime( date_in3,'%A, %d %B %Y')\n",
    "print(date1,date2,date3, sep='\\n')"
   ]
  },
  {
   "cell_type": "markdown",
   "metadata": {},
   "source": [
    "Задание 2\n",
    "Дан поток дат в формате YYYY-MM-DD, в которых встречаются некорректные значения:\n",
    "stream = [‘2018-04-02’, ‘2018-02-29’, ‘2018-19-02’]"
   ]
  },
  {
   "cell_type": "code",
   "execution_count": 25,
   "metadata": {},
   "outputs": [
    {
     "name": "stdout",
     "output_type": "stream",
     "text": [
      "True\n",
      "False\n",
      "False\n"
     ]
    }
   ],
   "source": [
    "stream = ['2018-04-02', '2018-02-29', '2018-19-02']\n",
    "def correct(date):\n",
    "    try:\n",
    "        datetime.strptime(date,'%Y-%m-%d')\n",
    "    except:\n",
    "        return False\n",
    "    return True\n",
    "for i in stream:\n",
    "    print(correct(i))"
   ]
  },
  {
   "cell_type": "markdown",
   "metadata": {},
   "source": [
    "Задание 3\n",
    "Напишите функцию date_range, которая возвращает список дат за период от start_date до end_date. Даты должны вводиться в формате YYYY-MM-DD. В случае неверного формата или при start_date > end_date должен возвращаться пустой список."
   ]
  },
  {
   "cell_type": "code",
   "execution_count": 26,
   "metadata": {},
   "outputs": [
    {
     "name": "stdout",
     "output_type": "stream",
     "text": [
      "Введите начальную дату2020-01-15\n",
      "Введите конечную дату2020-02-15\n",
      "['2020-01-15', '2020-01-16', '2020-01-17', '2020-01-18', '2020-01-19', '2020-01-20', '2020-01-21', '2020-01-22', '2020-01-23', '2020-01-24', '2020-01-25', '2020-01-26', '2020-01-27', '2020-01-28', '2020-01-29', '2020-01-30', '2020-01-31', '2020-02-01', '2020-02-02', '2020-02-03', '2020-02-04', '2020-02-05', '2020-02-06', '2020-02-07', '2020-02-08', '2020-02-09', '2020-02-10', '2020-02-11', '2020-02-12', '2020-02-13', '2020-02-14', '2020-02-15']\n"
     ]
    }
   ],
   "source": [
    "from datetime import timedelta\n",
    "def date_range():\n",
    "    dat = []\n",
    "    start_date = input(\"Введите начальную дату \")\n",
    "    try:\n",
    "        start_date = datetime.strptime(start_date,'%Y-%m-%d')\n",
    "    except:\n",
    "        print(\"Не корректная начальная дата \")\n",
    "        return dat\n",
    "    end_date = input(\"Введите конечную дату \")\n",
    "    try:\n",
    "         end_date = datetime.strptime(end_date,'%Y-%m-%d')\n",
    "    except:\n",
    "        print(\"Не корректная конечная дата \")\n",
    "        return dat\n",
    "    if start_date > end_date:\n",
    "        print(\"Начальная дата больше конечной \")\n",
    "        return dat\n",
    "    else:\n",
    "        current_date = start_date\n",
    "        while current_date<=end_date:\n",
    "            dat.append(current_date.strftime('%Y-%m-%d'))\n",
    "            current_date +=timedelta(days=1)\n",
    "        return dat\n",
    "print(date_range())"
   ]
  },
  {
   "cell_type": "markdown",
   "metadata": {},
   "source": [
    "Задание 4\n",
    "Ваш коллега прислал код функции:\n",
    "\n",
    "DEFAULT_USER_COUNT = 3\n",
    "\n",
    "def delete_and_return_last_user(region, default_list=[‘A100’, ‘A101’, ‘A102’]):\n",
    "\"\"“\n",
    "Удаляет из списка default_list последнего пользователя\n",
    "и возвращает ID нового последнего пользователя.\n",
    "”\"\"\n",
    "element_to_delete = default_list[-1]\n",
    "default_list.remove(element_to_delete)\n",
    "\n",
    "return default_list[DEFAULT_USER_COUNT-2]\n",
    "При однократном вызове этой функции все работает корректно:\n",
    "delete_and_return_last_user(1)\n",
    "‘A101’\n",
    "\n",
    "Однако, при повторном вызове получается ошибка IndexError: list index out of range.\n",
    "\n",
    "Задание:\n",
    "\n",
    "Что значит ошибка list index out of range?\n",
    "Почему при первом запуске функция работает корректно, а при втором - нет?"
   ]
  },
  {
   "cell_type": "markdown",
   "metadata": {},
   "source": [
    "Ответ - В первом запуке программы элемент с индексом 1 есть DEFAULT_USER_COUNT-2=1, так как DEFAULT_USER_COUNT = 3( для втрого раза эта величина так же постоянная, но элемент был удален ранее). Во втором разе он обращается к элементу, которого нет."
   ]
  }
 ],
 "metadata": {
  "kernelspec": {
   "display_name": "Python 3",
   "language": "python",
   "name": "python3"
  },
  "language_info": {
   "codemirror_mode": {
    "name": "ipython",
    "version": 3
   },
   "file_extension": ".py",
   "mimetype": "text/x-python",
   "name": "python",
   "nbconvert_exporter": "python",
   "pygments_lexer": "ipython3",
   "version": "3.8.3"
  }
 },
 "nbformat": 4,
 "nbformat_minor": 4
}
