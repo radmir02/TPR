{
  "nbformat": 4,
  "nbformat_minor": 0,
  "metadata": {
    "colab": {
      "name": "LR3.ipynb",
      "provenance": [],
      "collapsed_sections": [],
      "toc_visible": true
    },
    "kernelspec": {
      "display_name": "Python 3",
      "language": "python",
      "name": "python3"
    },
    "language_info": {
      "codemirror_mode": {
        "name": "ipython",
        "version": 3
      },
      "file_extension": ".py",
      "mimetype": "text/x-python",
      "name": "python",
      "nbconvert_exporter": "python",
      "pygments_lexer": "ipython3",
      "version": "3.8.3"
    }
  },
  "cells": [
    {
      "cell_type": "markdown",
      "metadata": {
        "id": "hogtjhairX0C"
      },
      "source": [
        "# Лабораторная работа №3"
      ]
    },
    {
      "cell_type": "code",
      "metadata": {
        "id": "Zo_j9HCKCPgi"
      },
      "source": [
        "import numpy as np\n",
        "from scipy.stats import t\n",
        "from scipy.stats import norm\n",
        "import matplotlib.pyplot as plt\n",
        "from scipy import stats\n",
        "import pandas as pd\n",
        "import io\n",
        "import requests\n",
        "import seaborn as sns\n",
        "\n",
        "%matplotlib inline"
      ],
      "execution_count": null,
      "outputs": []
    },
    {
      "cell_type": "markdown",
      "metadata": {
        "id": "LrhPyaIACZsb"
      },
      "source": [
        "**Задание 1. Indian liver pations records.**"
      ]
    },
    {
      "cell_type": "markdown",
      "metadata": {
        "id": "R5alAkm-rX0K"
      },
      "source": [
        "Загрузить датасет https://www.kaggle.com/uciml/indian-liver-patient-records. "
      ]
    },
    {
      "cell_type": "code",
      "metadata": {
        "colab": {
          "base_uri": "https://localhost:8080/",
          "height": 224
        },
        "id": "LQWcltRn-vZc",
        "scrolled": true,
        "outputId": "57d517f0-64f9-47c1-e092-b724da8029a1"
      },
      "source": [
        "import ssl\n",
        "# следующая строчка подключает сертификат для защищенного соединения\n",
        "ssl._create_default_https_context = ssl._create_unverified_context\n",
        "url=\"http://yustiks.ru/dataset/indian_liver_patient.csv\"\n",
        "data=pd.read_csv(url)\n",
        "data.tail()"
      ],
      "execution_count": null,
      "outputs": [
        {
          "output_type": "execute_result",
          "data": {
            "text/html": [
              "<div>\n",
              "<style scoped>\n",
              "    .dataframe tbody tr th:only-of-type {\n",
              "        vertical-align: middle;\n",
              "    }\n",
              "\n",
              "    .dataframe tbody tr th {\n",
              "        vertical-align: top;\n",
              "    }\n",
              "\n",
              "    .dataframe thead th {\n",
              "        text-align: right;\n",
              "    }\n",
              "</style>\n",
              "<table border=\"1\" class=\"dataframe\">\n",
              "  <thead>\n",
              "    <tr style=\"text-align: right;\">\n",
              "      <th></th>\n",
              "      <th>Age</th>\n",
              "      <th>Gender</th>\n",
              "      <th>Total_Bilirubin</th>\n",
              "      <th>Direct_Bilirubin</th>\n",
              "      <th>Alkaline_Phosphotase</th>\n",
              "      <th>Alamine_Aminotransferase</th>\n",
              "      <th>Aspartate_Aminotransferase</th>\n",
              "      <th>Total_Protiens</th>\n",
              "      <th>Albumin</th>\n",
              "      <th>Albumin_and_Globulin_Ratio</th>\n",
              "      <th>Dataset</th>\n",
              "    </tr>\n",
              "  </thead>\n",
              "  <tbody>\n",
              "    <tr>\n",
              "      <th>578</th>\n",
              "      <td>60</td>\n",
              "      <td>Male</td>\n",
              "      <td>0.5</td>\n",
              "      <td>0.1</td>\n",
              "      <td>500</td>\n",
              "      <td>20</td>\n",
              "      <td>34</td>\n",
              "      <td>5.9</td>\n",
              "      <td>1.6</td>\n",
              "      <td>0.37</td>\n",
              "      <td>2</td>\n",
              "    </tr>\n",
              "    <tr>\n",
              "      <th>579</th>\n",
              "      <td>40</td>\n",
              "      <td>Male</td>\n",
              "      <td>0.6</td>\n",
              "      <td>0.1</td>\n",
              "      <td>98</td>\n",
              "      <td>35</td>\n",
              "      <td>31</td>\n",
              "      <td>6.0</td>\n",
              "      <td>3.2</td>\n",
              "      <td>1.10</td>\n",
              "      <td>1</td>\n",
              "    </tr>\n",
              "    <tr>\n",
              "      <th>580</th>\n",
              "      <td>52</td>\n",
              "      <td>Male</td>\n",
              "      <td>0.8</td>\n",
              "      <td>0.2</td>\n",
              "      <td>245</td>\n",
              "      <td>48</td>\n",
              "      <td>49</td>\n",
              "      <td>6.4</td>\n",
              "      <td>3.2</td>\n",
              "      <td>1.00</td>\n",
              "      <td>1</td>\n",
              "    </tr>\n",
              "    <tr>\n",
              "      <th>581</th>\n",
              "      <td>31</td>\n",
              "      <td>Male</td>\n",
              "      <td>1.3</td>\n",
              "      <td>0.5</td>\n",
              "      <td>184</td>\n",
              "      <td>29</td>\n",
              "      <td>32</td>\n",
              "      <td>6.8</td>\n",
              "      <td>3.4</td>\n",
              "      <td>1.00</td>\n",
              "      <td>1</td>\n",
              "    </tr>\n",
              "    <tr>\n",
              "      <th>582</th>\n",
              "      <td>38</td>\n",
              "      <td>Male</td>\n",
              "      <td>1.0</td>\n",
              "      <td>0.3</td>\n",
              "      <td>216</td>\n",
              "      <td>21</td>\n",
              "      <td>24</td>\n",
              "      <td>7.3</td>\n",
              "      <td>4.4</td>\n",
              "      <td>1.50</td>\n",
              "      <td>2</td>\n",
              "    </tr>\n",
              "  </tbody>\n",
              "</table>\n",
              "</div>"
            ],
            "text/plain": [
              "     Age Gender  Total_Bilirubin  Direct_Bilirubin  Alkaline_Phosphotase  \\\n",
              "578   60   Male              0.5               0.1                   500   \n",
              "579   40   Male              0.6               0.1                    98   \n",
              "580   52   Male              0.8               0.2                   245   \n",
              "581   31   Male              1.3               0.5                   184   \n",
              "582   38   Male              1.0               0.3                   216   \n",
              "\n",
              "     Alamine_Aminotransferase  Aspartate_Aminotransferase  Total_Protiens  \\\n",
              "578                        20                          34             5.9   \n",
              "579                        35                          31             6.0   \n",
              "580                        48                          49             6.4   \n",
              "581                        29                          32             6.8   \n",
              "582                        21                          24             7.3   \n",
              "\n",
              "     Albumin  Albumin_and_Globulin_Ratio  Dataset  \n",
              "578      1.6                        0.37        2  \n",
              "579      3.2                        1.10        1  \n",
              "580      3.2                        1.00        1  \n",
              "581      3.4                        1.00        1  \n",
              "582      4.4                        1.50        2  "
            ]
          },
          "metadata": {
            "tags": []
          },
          "execution_count": 2
        }
      ]
    },
    {
      "cell_type": "markdown",
      "metadata": {
        "id": "XyNNmtvIDDy3"
      },
      "source": [
        "Columns:\n",
        "\n",
        "*  Age of the patient\n",
        "*  Gender of the patient\n",
        "*  Total Bilirubin\n",
        "*  Direct Bilirubin\n",
        "*  Alkaline Phosphotase\n",
        "*  Alamine Aminotransferase\n",
        "*  Aspartate Aminotransferase\n",
        "*  Total Protiens\n",
        "*  Albumin\n",
        "*  Albumin and Globulin Ratio\n",
        "*  Dataset: field used to split the data into two sets (patient with liver disease, or no disease)\n"
      ]
    },
    {
      "cell_type": "markdown",
      "metadata": {
        "id": "6_rRmlsBrX0M"
      },
      "source": [
        "Dataset: пациент с болезнью печени - 1,\n",
        "         пациент не болеет - 2. Оценить объемы выборок пациентов обоих групп."
      ]
    },
    {
      "cell_type": "code",
      "metadata": {
        "id": "raEoIlIdWpDG",
        "outputId": "b141534a-65d5-48e0-ce19-683e3a963fc3"
      },
      "source": [
        "len(data[data['Dataset']==2])"
      ],
      "execution_count": null,
      "outputs": [
        {
          "output_type": "execute_result",
          "data": {
            "text/plain": [
              "167"
            ]
          },
          "metadata": {
            "tags": []
          },
          "execution_count": 3
        }
      ]
    },
    {
      "cell_type": "code",
      "metadata": {
        "id": "NArH0IMsWpDH",
        "outputId": "53e8519d-c0ad-4186-9311-ded4f36ff27e"
      },
      "source": [
        "len(data[data['Dataset']==1])"
      ],
      "execution_count": null,
      "outputs": [
        {
          "output_type": "execute_result",
          "data": {
            "text/plain": [
              "416"
            ]
          },
          "metadata": {
            "tags": []
          },
          "execution_count": 4
        }
      ]
    },
    {
      "cell_type": "markdown",
      "metadata": {
        "id": "cpVJUyThrX0M"
      },
      "source": [
        "Посчитать корреляцию Пирсона для Direct_Bilirubin и Total_Bilirubin."
      ]
    },
    {
      "cell_type": "code",
      "metadata": {
        "id": "cdgu3eKQWpDI",
        "outputId": "fbfb37e7-3a6d-4113-8cba-e6abdd8779fb"
      },
      "source": [
        "from scipy.stats.stats import pearsonr\n",
        "pearsonr(data['Direct_Bilirubin'],data['Total_Bilirubin'])"
      ],
      "execution_count": null,
      "outputs": [
        {
          "output_type": "execute_result",
          "data": {
            "text/plain": [
              "(0.8746179301164134, 7.873553178023721e-185)"
            ]
          },
          "metadata": {
            "tags": []
          },
          "execution_count": 5
        }
      ]
    },
    {
      "cell_type": "code",
      "metadata": {
        "id": "xcsb18T9WpDK"
      },
      "source": [
        "data['Direct_Bilirubin'].fillna(0, inplace = True)\n",
        "data['Total_Bilirubin'].fillna(0, inplace = True)\n",
        "direct_bilirubin = data['Direct_Bilirubin']\n",
        "total_bilirubin = data['Total_Bilirubin']"
      ],
      "execution_count": null,
      "outputs": []
    },
    {
      "cell_type": "code",
      "metadata": {
        "id": "_3nRK1Y3WpDL",
        "outputId": "e7dd39f9-4072-4283-f061-070359b8d59b"
      },
      "source": [
        "pearsonr(direct_bilirubin, total_bilirubin) "
      ],
      "execution_count": null,
      "outputs": [
        {
          "output_type": "execute_result",
          "data": {
            "text/plain": [
              "(0.8746179301164134, 7.873553178023721e-185)"
            ]
          },
          "metadata": {
            "tags": []
          },
          "execution_count": 8
        }
      ]
    },
    {
      "cell_type": "code",
      "metadata": {
        "id": "Bx-JZuO5WpDM",
        "outputId": "d8edb555-1279-4cba-ee07-1cbe78bc4d35"
      },
      "source": [
        "data[['Direct_Bilirubin', 'Total_Bilirubin']].cov()"
      ],
      "execution_count": null,
      "outputs": [
        {
          "output_type": "execute_result",
          "data": {
            "text/html": [
              "<div>\n",
              "<style scoped>\n",
              "    .dataframe tbody tr th:only-of-type {\n",
              "        vertical-align: middle;\n",
              "    }\n",
              "\n",
              "    .dataframe tbody tr th {\n",
              "        vertical-align: top;\n",
              "    }\n",
              "\n",
              "    .dataframe thead th {\n",
              "        text-align: right;\n",
              "    }\n",
              "</style>\n",
              "<table border=\"1\" class=\"dataframe\">\n",
              "  <thead>\n",
              "    <tr style=\"text-align: right;\">\n",
              "      <th></th>\n",
              "      <th>Direct_Bilirubin</th>\n",
              "      <th>Total_Bilirubin</th>\n",
              "    </tr>\n",
              "  </thead>\n",
              "  <tbody>\n",
              "    <tr>\n",
              "      <th>Direct_Bilirubin</th>\n",
              "      <td>7.887659</td>\n",
              "      <td>15.252836</td>\n",
              "    </tr>\n",
              "    <tr>\n",
              "      <th>Total_Bilirubin</th>\n",
              "      <td>15.252836</td>\n",
              "      <td>38.558160</td>\n",
              "    </tr>\n",
              "  </tbody>\n",
              "</table>\n",
              "</div>"
            ],
            "text/plain": [
              "                  Direct_Bilirubin  Total_Bilirubin\n",
              "Direct_Bilirubin          7.887659        15.252836\n",
              "Total_Bilirubin          15.252836        38.558160"
            ]
          },
          "metadata": {
            "tags": []
          },
          "execution_count": 9
        }
      ]
    },
    {
      "cell_type": "code",
      "metadata": {
        "id": "i1fElMHvWpDN",
        "outputId": "5a4a79e1-d171-47e0-a856-26feb845d2eb"
      },
      "source": [
        "import statistics\n",
        "15.252836/(statistics.pstdev(direct_bilirubin)*statistics.pstdev(total_bilirubin))"
      ],
      "execution_count": null,
      "outputs": [
        {
          "output_type": "execute_result",
          "data": {
            "text/plain": [
              "0.8761207374582995"
            ]
          },
          "metadata": {
            "tags": []
          },
          "execution_count": 11
        }
      ]
    },
    {
      "cell_type": "markdown",
      "metadata": {
        "id": "dJeqKGq6WpDO"
      },
      "source": [
        "**Коэффициент корреляции Пирсона 0,88**"
      ]
    },
    {
      "cell_type": "markdown",
      "metadata": {
        "id": "AxqBdUlzWpDO"
      },
      "source": [
        "Построить одномерную линейную регрессию Direct_Bilirubin и Total_Bilirubin, предварительно разделив данные на 80% тренировочных и 20% тестовых. Построить график: исходных тренировочных и тестовых данных, а также прямой линейной регрессии."
      ]
    },
    {
      "cell_type": "code",
      "metadata": {
        "id": "QT95kNjJWpDP"
      },
      "source": [
        "from sklearn.metrics import mean_squared_error, mean_absolute_error"
      ],
      "execution_count": null,
      "outputs": []
    },
    {
      "cell_type": "code",
      "metadata": {
        "id": "wNhUq_XvWpDQ",
        "outputId": "afc0d25c-8713-4e4b-9d05-63584e382487"
      },
      "source": [
        "Direct_Bilirubin = np.array(direct_bilirubin).reshape(-1,1)\n",
        "Total_Bilirubin = np.array(total_bilirubin).reshape(-1,1)\n",
        "from sklearn.linear_model import LinearRegression\n",
        "model = LinearRegression()\n",
        "from sklearn.model_selection import train_test_split\n",
        "\n",
        "X_train, X_test, y_train, y_test = train_test_split(\n",
        "Direct_Bilirubin,\n",
        "Total_Bilirubin,\n",
        "test_size = 0.2\n",
        ")\n",
        "model.fit(X_train, y_train)\n",
        "predicted_y = model.predict(X_test)\n",
        "print(mean_squared_error(predicted_y, y_test))\n",
        "print(mean_absolute_error(predicted_y, y_test))"
      ],
      "execution_count": null,
      "outputs": [
        {
          "output_type": "stream",
          "text": [
            "1.6981839340531881\n",
            "0.37754454873770543\n"
          ],
          "name": "stdout"
        }
      ]
    },
    {
      "cell_type": "code",
      "metadata": {
        "id": "huXVOtJ7WpDS",
        "outputId": "6dca7c15-dd74-4302-a6b0-caef6fc106ed"
      },
      "source": [
        "plt.xlabel('Direct_Bilirubin')\n",
        "plt.ylabel('Total_Bilirubin')\n",
        "plt.title('Линейная регрессия от одной переменной')\n",
        "x = np.linspace(-50, 200, 100)\n",
        "y = model.coef_*x + model.intercept_\n",
        "y = np.transpose(y)\n",
        "plt.plot(x,y)\n",
        "plt.plot(X_train, y_train, 'r.')\n",
        "plt.plot(X_test, y_test, 'go')\n",
        "plt.xlim(-30,30)\n",
        "plt.ylim(-30,80)\n",
        "plt.legend(['Прямая линейной регрессии', 'Тренировочные данные', 'Тестовые данные'])\n",
        "plt.show()"
      ],
      "execution_count": null,
      "outputs": [
        {
          "output_type": "display_data",
          "data": {
            "image/png": "[encoded data removed]",
            "text/plain": [
              "<Figure size 432x288 with 1 Axes>"
            ]
          },
          "metadata": {
            "tags": [],
            "needs_background": "light"
          }
        }
      ]
    },
    {
      "cell_type": "markdown",
      "metadata": {
        "id": "csZjPOoprX0O"
      },
      "source": [
        "Посчитать квантилей 10%, 25%, 50%, 75% для колонок Age, Direct_Bilirubin и Total_Bilirubin таблицы data"
      ]
    },
    {
      "cell_type": "code",
      "metadata": {
        "id": "SbLFLzXzWpDV",
        "outputId": "c32b50c2-d225-4beb-c77d-69de23155035"
      },
      "source": [
        "age = data['Age']\n",
        "print(\"Q2 квантиль ряда : \", np.quantile(age, .50)) \n",
        "print(\"Q1 квантиль ряда : \", np.quantile(age, .25)) \n",
        "print(\"Q3 квантиль ряда : \", np.quantile(age, .75)) \n",
        "print(\"10 квантиль ряда : \", np.quantile(age, .1)) "
      ],
      "execution_count": null,
      "outputs": [
        {
          "output_type": "stream",
          "text": [
            "Q2 квантиль ряда :  45.0\n",
            "Q1 квантиль ряда :  33.0\n",
            "Q3 квантиль ряда :  58.0\n",
            "10 квантиль ряда :  23.0\n"
          ],
          "name": "stdout"
        }
      ]
    },
    {
      "cell_type": "markdown",
      "metadata": {
        "id": "PCUm1q2YrX0N"
      },
      "source": [
        "Примеры квантилей 10%, 25%, 50%, 75% для всех колонок таблицы data"
      ]
    },
    {
      "cell_type": "code",
      "metadata": {
        "id": "dEdd5QvhrX0N",
        "outputId": "2d8ebf31-3d7a-496f-bf65-fbb8a53df47f"
      },
      "source": [
        "data.quantile([.10, .25, .50, .75], axis = 0)  "
      ],
      "execution_count": null,
      "outputs": [
        {
          "output_type": "execute_result",
          "data": {
            "text/html": [
              "<div>\n",
              "<style scoped>\n",
              "    .dataframe tbody tr th:only-of-type {\n",
              "        vertical-align: middle;\n",
              "    }\n",
              "\n",
              "    .dataframe tbody tr th {\n",
              "        vertical-align: top;\n",
              "    }\n",
              "\n",
              "    .dataframe thead th {\n",
              "        text-align: right;\n",
              "    }\n",
              "</style>\n",
              "<table border=\"1\" class=\"dataframe\">\n",
              "  <thead>\n",
              "    <tr style=\"text-align: right;\">\n",
              "      <th></th>\n",
              "      <th>Age</th>\n",
              "      <th>Total_Bilirubin</th>\n",
              "      <th>Direct_Bilirubin</th>\n",
              "      <th>Alkaline_Phosphotase</th>\n",
              "      <th>Alamine_Aminotransferase</th>\n",
              "      <th>Aspartate_Aminotransferase</th>\n",
              "      <th>Total_Protiens</th>\n",
              "      <th>Albumin</th>\n",
              "      <th>Albumin_and_Globulin_Ratio</th>\n",
              "      <th>Dataset</th>\n",
              "    </tr>\n",
              "  </thead>\n",
              "  <tbody>\n",
              "    <tr>\n",
              "      <th>0.10</th>\n",
              "      <td>23.0</td>\n",
              "      <td>0.7</td>\n",
              "      <td>0.1</td>\n",
              "      <td>150.0</td>\n",
              "      <td>18.0</td>\n",
              "      <td>19.0</td>\n",
              "      <td>5.1</td>\n",
              "      <td>2.0</td>\n",
              "      <td>0.546</td>\n",
              "      <td>1.0</td>\n",
              "    </tr>\n",
              "    <tr>\n",
              "      <th>0.25</th>\n",
              "      <td>33.0</td>\n",
              "      <td>0.8</td>\n",
              "      <td>0.2</td>\n",
              "      <td>175.5</td>\n",
              "      <td>23.0</td>\n",
              "      <td>25.0</td>\n",
              "      <td>5.8</td>\n",
              "      <td>2.6</td>\n",
              "      <td>0.700</td>\n",
              "      <td>1.0</td>\n",
              "    </tr>\n",
              "    <tr>\n",
              "      <th>0.50</th>\n",
              "      <td>45.0</td>\n",
              "      <td>1.0</td>\n",
              "      <td>0.3</td>\n",
              "      <td>208.0</td>\n",
              "      <td>35.0</td>\n",
              "      <td>42.0</td>\n",
              "      <td>6.6</td>\n",
              "      <td>3.1</td>\n",
              "      <td>0.930</td>\n",
              "      <td>1.0</td>\n",
              "    </tr>\n",
              "    <tr>\n",
              "      <th>0.75</th>\n",
              "      <td>58.0</td>\n",
              "      <td>2.6</td>\n",
              "      <td>1.3</td>\n",
              "      <td>298.0</td>\n",
              "      <td>60.5</td>\n",
              "      <td>87.0</td>\n",
              "      <td>7.2</td>\n",
              "      <td>3.8</td>\n",
              "      <td>1.100</td>\n",
              "      <td>2.0</td>\n",
              "    </tr>\n",
              "  </tbody>\n",
              "</table>\n",
              "</div>"
            ],
            "text/plain": [
              "       Age  Total_Bilirubin  Direct_Bilirubin  Alkaline_Phosphotase  \\\n",
              "0.10  23.0              0.7               0.1                 150.0   \n",
              "0.25  33.0              0.8               0.2                 175.5   \n",
              "0.50  45.0              1.0               0.3                 208.0   \n",
              "0.75  58.0              2.6               1.3                 298.0   \n",
              "\n",
              "      Alamine_Aminotransferase  Aspartate_Aminotransferase  Total_Protiens  \\\n",
              "0.10                      18.0                        19.0             5.1   \n",
              "0.25                      23.0                        25.0             5.8   \n",
              "0.50                      35.0                        42.0             6.6   \n",
              "0.75                      60.5                        87.0             7.2   \n",
              "\n",
              "      Albumin  Albumin_and_Globulin_Ratio  Dataset  \n",
              "0.10      2.0                       0.546      1.0  \n",
              "0.25      2.6                       0.700      1.0  \n",
              "0.50      3.1                       0.930      1.0  \n",
              "0.75      3.8                       1.100      2.0  "
            ]
          },
          "metadata": {
            "tags": []
          },
          "execution_count": 21
        }
      ]
    },
    {
      "cell_type": "markdown",
      "metadata": {
        "id": "7kwq4rqzOoz1"
      },
      "source": [
        "Построить график histogram двух выборок по показателю Direct_Bilirubin: люди, возрастом до 50 лет, и люди после 50 лет. Посчитать среднее значение и квантиль 0.5 в данных выборках. Чем они отличаются?"
      ]
    },
    {
      "cell_type": "code",
      "metadata": {
        "id": "Utj5hrlmWpDY",
        "outputId": "04343945-de65-4034-8850-24a055a8e46c"
      },
      "source": [
        "direct_bilirubin_do50=direct_bilirubin[data['Age']<50]\n",
        "direct_bilirubin_do50"
      ],
      "execution_count": null,
      "outputs": [
        {
          "output_type": "execute_result",
          "data": {
            "text/plain": [
              "5      0.7\n",
              "6      0.2\n",
              "7      0.3\n",
              "8      0.3\n",
              "15     0.1\n",
              "      ... \n",
              "576    8.2\n",
              "577    8.4\n",
              "579    0.1\n",
              "581    0.5\n",
              "582    0.3\n",
              "Name: Direct_Bilirubin, Length: 353, dtype: float64"
            ]
          },
          "metadata": {
            "tags": []
          },
          "execution_count": 28
        }
      ]
    },
    {
      "cell_type": "code",
      "metadata": {
        "id": "YMwUfYd4WpDZ",
        "outputId": "3a584270-61ea-4ca0-85a4-05e1be68e9f7"
      },
      "source": [
        "direct_bilirubin_posle50=direct_bilirubin[data['Age']>=50]\n",
        "direct_bilirubin_posle50"
      ],
      "execution_count": null,
      "outputs": [
        {
          "output_type": "execute_result",
          "data": {
            "text/plain": [
              "0      0.1\n",
              "1      5.5\n",
              "2      4.1\n",
              "3      0.4\n",
              "4      2.0\n",
              "      ... \n",
              "566    0.3\n",
              "567    1.4\n",
              "571    0.3\n",
              "578    0.1\n",
              "580    0.2\n",
              "Name: Direct_Bilirubin, Length: 230, dtype: float64"
            ]
          },
          "metadata": {
            "tags": []
          },
          "execution_count": 29
        }
      ]
    },
    {
      "cell_type": "code",
      "metadata": {
        "id": "n31Sw7M_WpDZ",
        "outputId": "213ff69f-d1c3-4b9f-a365-6c3cee42eeb5"
      },
      "source": [
        "df=direct_bilirubin_posle50.hist()\n",
        "df.set_ylabel('Количество людей')\n",
        "df.set_xlabel('Direct_Bilirubin')"
      ],
      "execution_count": null,
      "outputs": [
        {
          "output_type": "execute_result",
          "data": {
            "text/plain": [
              "Text(0.5, 0, 'Direct_Bilirubin')"
            ]
          },
          "metadata": {
            "tags": []
          },
          "execution_count": 30
        },
        {
          "output_type": "display_data",
          "data": {
            "image/png": "[encoded data removed]",
            "text/plain": [
              "<Figure size 432x288 with 1 Axes>"
            ]
          },
          "metadata": {
            "tags": [],
            "needs_background": "light"
          }
        }
      ]
    },
    {
      "cell_type": "code",
      "metadata": {
        "id": "l3Wi6z94WpDa",
        "outputId": "bb71eb0a-9095-4c20-eddb-69e2637f0434"
      },
      "source": [
        "df1=direct_bilirubin_do50.hist()\n",
        "df1.set_ylabel('Количество людей')\n",
        "df1.set_xlabel('Direct_Bilirubin')"
      ],
      "execution_count": null,
      "outputs": [
        {
          "output_type": "execute_result",
          "data": {
            "text/plain": [
              "Text(0.5, 0, 'Direct_Bilirubin')"
            ]
          },
          "metadata": {
            "tags": []
          },
          "execution_count": 31
        },
        {
          "output_type": "display_data",
          "data": {
            "image/png": "[encoded data removed]",
            "text/plain": [
              "<Figure size 432x288 with 1 Axes>"
            ]
          },
          "metadata": {
            "tags": [],
            "needs_background": "light"
          }
        }
      ]
    },
    {
      "cell_type": "code",
      "metadata": {
        "id": "9s0pCwqZWpDa",
        "outputId": "71bde4c1-d4ed-4c42-a4f7-a6b97efc6021"
      },
      "source": [
        "print(\"квантиль:\",direct_bilirubin_do50.quantile([.50]))\n",
        "print(\"ср.знач:\",direct_bilirubin_do50.mean())"
      ],
      "execution_count": null,
      "outputs": [
        {
          "output_type": "stream",
          "text": [
            "квантиль: 0.5    0.3\n",
            "Name: Direct_Bilirubin, dtype: float64\n",
            "ср.знач: 1.4946175637393755\n"
          ],
          "name": "stdout"
        }
      ]
    },
    {
      "cell_type": "code",
      "metadata": {
        "id": "LMzecqZdWpDb",
        "outputId": "b25ee0fb-23ce-40ea-fae0-605219c674ca"
      },
      "source": [
        "print(\"квантиль:\",direct_bilirubin_posle50.quantile([.50]))\n",
        "print(\"ср.знач:\",direct_bilirubin_posle50.mean())"
      ],
      "execution_count": null,
      "outputs": [
        {
          "output_type": "stream",
          "text": [
            "квантиль: 0.5    0.4\n",
            "Name: Direct_Bilirubin, dtype: float64\n",
            "ср.знач: 1.4730434782608677\n"
          ],
          "name": "stdout"
        }
      ]
    },
    {
      "cell_type": "markdown",
      "metadata": {
        "id": "QZVd-KyDQq38"
      },
      "source": [
        "Посчитать одновыборочный t-критерий для выборки по показанию Total_Bilirubin у больных людей. Как показатель помогает понять, что выборки не похожа на генеральную совокупность (все люди из выборки)? Сравнить t-критерий с табличным показателем граничного t-критерия Стьюдента. alpha = 0.05, доверительная вероятность 95%. Число степеней свободы = (количество людей больных  - 1). Если t-value, посчитанное с помощью теста, больше порогового табличного, то мы отклоняем нулевую гипотезу о сходстве."
      ]
    },
    {
      "cell_type": "code",
      "metadata": {
        "id": "El6rS2_3WpDc"
      },
      "source": [
        "from scipy.stats import *"
      ],
      "execution_count": null,
      "outputs": []
    },
    {
      "cell_type": "code",
      "metadata": {
        "id": "PvsmtrOqWpDd",
        "outputId": "2c454c7a-82f1-48b1-be0b-6f97929d427c"
      },
      "source": [
        "total_bilirubin_sick=total_bilirubin[data['Dataset']==1]\n",
        "ttest_1samp(total_bilirubin_sick, 0)"
      ],
      "execution_count": null,
      "outputs": [
        {
          "output_type": "execute_result",
          "data": {
            "text/plain": [
              "Ttest_1sampResult(statistic=11.888020517106993, pvalue=2.995697191414789e-28)"
            ]
          },
          "metadata": {
            "tags": []
          },
          "execution_count": 40
        }
      ]
    },
    {
      "cell_type": "code",
      "metadata": {
        "id": "eNKqbocFWpDe",
        "outputId": "118a31fc-fbfc-483e-d4df-d24e39778244"
      },
      "source": [
        "total_bilirubin_sick.count()-1"
      ],
      "execution_count": null,
      "outputs": [
        {
          "output_type": "execute_result",
          "data": {
            "text/plain": [
              "415"
            ]
          },
          "metadata": {
            "tags": []
          },
          "execution_count": 41
        }
      ]
    },
    {
      "cell_type": "markdown",
      "metadata": {
        "id": "iSOYF7U0WpDf"
      },
      "source": [
        "1.98<11 \n",
        "\n",
        "отвергаем нулевую гипотезу о сходстве."
      ]
    },
    {
      "cell_type": "code",
      "metadata": {
        "id": "quX_7oBNrX0P",
        "outputId": "ddfff6a5-7835-4bb2-8762-bfd836b11898"
      },
      "source": [
        "from IPython.display import Image\n",
        "Image('https://sun9-13.userapi.com/c858132/v858132950/17426d/O9zG6rdfid4.jpg', width=600)"
      ],
      "execution_count": null,
      "outputs": [
        {
          "output_type": "execute_result",
          "data": {
            "image/jpeg": "[encoded data removed]",
            "text/plain": [
              "<IPython.core.display.Image object>"
            ]
          },
          "metadata": {
            "tags": [],
            "image/jpeg": {
              "width": 600
            }
          },
          "execution_count": 36
        }
      ]
    },
    {
      "cell_type": "markdown",
      "metadata": {
        "id": "dI901FRqRC8A"
      },
      "source": [
        "Посчитать критерий t для двух выборок: больные и здоровые (по критерию Total_Bilirubin). В данном случае сравниваем p-value. Имеют ли данные группы схожесть (по p-value)?"
      ]
    },
    {
      "cell_type": "code",
      "metadata": {
        "id": "lXmftKzgWpDg",
        "outputId": "2ba4b74c-b17e-4aa7-d622-1a6a71261384"
      },
      "source": [
        "total_bilirubin_health=total_bilirubin[data['Dataset']==2]\n",
        "print(ttest_1samp(total_bilirubin_sick, 0))\n",
        "ttest_1samp(total_bilirubin_health, 0)"
      ],
      "execution_count": null,
      "outputs": [
        {
          "output_type": "stream",
          "text": [
            "Ttest_1sampResult(statistic=11.888020517106993, pvalue=2.995697191414789e-28)\n"
          ],
          "name": "stdout"
        },
        {
          "output_type": "execute_result",
          "data": {
            "text/plain": [
              "Ttest_1sampResult(statistic=14.698808917873793, pvalue=7.337914669049984e-32)"
            ]
          },
          "metadata": {
            "tags": []
          },
          "execution_count": 42
        }
      ]
    },
    {
      "cell_type": "markdown",
      "metadata": {
        "id": "cKB3BYbGWpDg"
      },
      "source": [
        "Нет, не имеют."
      ]
    },
    {
      "cell_type": "markdown",
      "metadata": {
        "id": "D5YZgkO_rX0R"
      },
      "source": [
        "**Задание 2. AUTO.CSV**\n",
        "1. Загрузить файл auto.csv\n",
        "2. Рассчитать основные статистики для переменных(среднее, медиана, мода, мин/макс, сред. отклонение)\n",
        "3. Рассчитать и визуализировать корреляционную матрицу для переменных\n",
        "4. Визуализировать распределение переменной ‘Price’, рассчитать показатели skewness и kurtosis, что можно сказать о типе распределения?\n",
        "5. Визуализировать несколько взаимосвязей между переменными\n",
        "6. Выдвинуть несколько гипотез (2-3) по набору имеющихся переменных и проверить эти гипотезы с использованием t-test."
      ]
    },
    {
      "cell_type": "markdown",
      "metadata": {
        "id": "KFcAJelpWpDh"
      },
      "source": [
        "Загрузить файл auto.csv"
      ]
    },
    {
      "cell_type": "code",
      "metadata": {
        "id": "ETXT8fihWpDi",
        "outputId": "5c603dbb-3817-4148-c475-1a01eb85c0ae"
      },
      "source": [
        "url=\"auto.csv\"\n",
        "df=pd.read_csv(url)\n",
        "df.fillna(0)\n",
        "df.head()"
      ],
      "execution_count": null,
      "outputs": [
        {
          "output_type": "execute_result",
          "data": {
            "text/html": [
              "<div>\n",
              "<style scoped>\n",
              "    .dataframe tbody tr th:only-of-type {\n",
              "        vertical-align: middle;\n",
              "    }\n",
              "\n",
              "    .dataframe tbody tr th {\n",
              "        vertical-align: top;\n",
              "    }\n",
              "\n",
              "    .dataframe thead th {\n",
              "        text-align: right;\n",
              "    }\n",
              "</style>\n",
              "<table border=\"1\" class=\"dataframe\">\n",
              "  <thead>\n",
              "    <tr style=\"text-align: right;\">\n",
              "      <th></th>\n",
              "      <th>symboling</th>\n",
              "      <th>normalized-losses</th>\n",
              "      <th>make</th>\n",
              "      <th>fuel-type</th>\n",
              "      <th>aspiration</th>\n",
              "      <th>num-of-doors</th>\n",
              "      <th>body-style</th>\n",
              "      <th>drive-wheels</th>\n",
              "      <th>engine-location</th>\n",
              "      <th>wheel-base</th>\n",
              "      <th>...</th>\n",
              "      <th>engine-size</th>\n",
              "      <th>fuel-system</th>\n",
              "      <th>bore</th>\n",
              "      <th>stroke</th>\n",
              "      <th>compression-ratio</th>\n",
              "      <th>horsepower</th>\n",
              "      <th>peak-rpm</th>\n",
              "      <th>city-mpg</th>\n",
              "      <th>highway-mpg</th>\n",
              "      <th>price</th>\n",
              "    </tr>\n",
              "  </thead>\n",
              "  <tbody>\n",
              "    <tr>\n",
              "      <th>0</th>\n",
              "      <td>3</td>\n",
              "      <td>164</td>\n",
              "      <td>alfa-romero</td>\n",
              "      <td>gas</td>\n",
              "      <td>std</td>\n",
              "      <td>two</td>\n",
              "      <td>convertible</td>\n",
              "      <td>rwd</td>\n",
              "      <td>front</td>\n",
              "      <td>88.6</td>\n",
              "      <td>...</td>\n",
              "      <td>130</td>\n",
              "      <td>mpfi</td>\n",
              "      <td>3.47</td>\n",
              "      <td>2.68</td>\n",
              "      <td>9.0</td>\n",
              "      <td>111</td>\n",
              "      <td>5000</td>\n",
              "      <td>21</td>\n",
              "      <td>27</td>\n",
              "      <td>13495</td>\n",
              "    </tr>\n",
              "    <tr>\n",
              "      <th>1</th>\n",
              "      <td>3</td>\n",
              "      <td>164</td>\n",
              "      <td>alfa-romero</td>\n",
              "      <td>gas</td>\n",
              "      <td>std</td>\n",
              "      <td>two</td>\n",
              "      <td>convertible</td>\n",
              "      <td>rwd</td>\n",
              "      <td>front</td>\n",
              "      <td>88.6</td>\n",
              "      <td>...</td>\n",
              "      <td>130</td>\n",
              "      <td>mpfi</td>\n",
              "      <td>3.47</td>\n",
              "      <td>2.68</td>\n",
              "      <td>9.0</td>\n",
              "      <td>111</td>\n",
              "      <td>5000</td>\n",
              "      <td>21</td>\n",
              "      <td>27</td>\n",
              "      <td>16500</td>\n",
              "    </tr>\n",
              "    <tr>\n",
              "      <th>2</th>\n",
              "      <td>1</td>\n",
              "      <td>164</td>\n",
              "      <td>alfa-romero</td>\n",
              "      <td>gas</td>\n",
              "      <td>std</td>\n",
              "      <td>two</td>\n",
              "      <td>hatchback</td>\n",
              "      <td>rwd</td>\n",
              "      <td>front</td>\n",
              "      <td>94.5</td>\n",
              "      <td>...</td>\n",
              "      <td>152</td>\n",
              "      <td>mpfi</td>\n",
              "      <td>2.68</td>\n",
              "      <td>3.47</td>\n",
              "      <td>9.0</td>\n",
              "      <td>154</td>\n",
              "      <td>5000</td>\n",
              "      <td>19</td>\n",
              "      <td>26</td>\n",
              "      <td>16500</td>\n",
              "    </tr>\n",
              "    <tr>\n",
              "      <th>3</th>\n",
              "      <td>2</td>\n",
              "      <td>164</td>\n",
              "      <td>audi</td>\n",
              "      <td>gas</td>\n",
              "      <td>std</td>\n",
              "      <td>four</td>\n",
              "      <td>sedan</td>\n",
              "      <td>fwd</td>\n",
              "      <td>front</td>\n",
              "      <td>99.8</td>\n",
              "      <td>...</td>\n",
              "      <td>109</td>\n",
              "      <td>mpfi</td>\n",
              "      <td>3.19</td>\n",
              "      <td>3.40</td>\n",
              "      <td>10.0</td>\n",
              "      <td>102</td>\n",
              "      <td>5500</td>\n",
              "      <td>24</td>\n",
              "      <td>30</td>\n",
              "      <td>13950</td>\n",
              "    </tr>\n",
              "    <tr>\n",
              "      <th>4</th>\n",
              "      <td>2</td>\n",
              "      <td>164</td>\n",
              "      <td>audi</td>\n",
              "      <td>gas</td>\n",
              "      <td>std</td>\n",
              "      <td>four</td>\n",
              "      <td>sedan</td>\n",
              "      <td>4wd</td>\n",
              "      <td>front</td>\n",
              "      <td>99.4</td>\n",
              "      <td>...</td>\n",
              "      <td>136</td>\n",
              "      <td>mpfi</td>\n",
              "      <td>3.19</td>\n",
              "      <td>3.40</td>\n",
              "      <td>8.0</td>\n",
              "      <td>115</td>\n",
              "      <td>5500</td>\n",
              "      <td>18</td>\n",
              "      <td>22</td>\n",
              "      <td>17450</td>\n",
              "    </tr>\n",
              "  </tbody>\n",
              "</table>\n",
              "<p>5 rows × 26 columns</p>\n",
              "</div>"
            ],
            "text/plain": [
              "   symboling  normalized-losses         make fuel-type aspiration  \\\n",
              "0          3                164  alfa-romero       gas        std   \n",
              "1          3                164  alfa-romero       gas        std   \n",
              "2          1                164  alfa-romero       gas        std   \n",
              "3          2                164         audi       gas        std   \n",
              "4          2                164         audi       gas        std   \n",
              "\n",
              "  num-of-doors   body-style drive-wheels engine-location  wheel-base  ...  \\\n",
              "0          two  convertible          rwd           front        88.6  ...   \n",
              "1          two  convertible          rwd           front        88.6  ...   \n",
              "2          two    hatchback          rwd           front        94.5  ...   \n",
              "3         four        sedan          fwd           front        99.8  ...   \n",
              "4         four        sedan          4wd           front        99.4  ...   \n",
              "\n",
              "   engine-size  fuel-system  bore  stroke compression-ratio horsepower  \\\n",
              "0          130         mpfi  3.47    2.68               9.0        111   \n",
              "1          130         mpfi  3.47    2.68               9.0        111   \n",
              "2          152         mpfi  2.68    3.47               9.0        154   \n",
              "3          109         mpfi  3.19    3.40              10.0        102   \n",
              "4          136         mpfi  3.19    3.40               8.0        115   \n",
              "\n",
              "   peak-rpm city-mpg  highway-mpg  price  \n",
              "0      5000       21           27  13495  \n",
              "1      5000       21           27  16500  \n",
              "2      5000       19           26  16500  \n",
              "3      5500       24           30  13950  \n",
              "4      5500       18           22  17450  \n",
              "\n",
              "[5 rows x 26 columns]"
            ]
          },
          "metadata": {
            "tags": []
          },
          "execution_count": 44
        }
      ]
    },
    {
      "cell_type": "markdown",
      "metadata": {
        "id": "P-KyZqP8WpDi"
      },
      "source": [
        "Рассчитать основные статистики для переменных(среднее, медиана, мода, мин/макс, сред. отклонение)"
      ]
    },
    {
      "cell_type": "markdown",
      "metadata": {
        "id": "OGmO_9KPWpDi"
      },
      "source": [
        "***Мода***"
      ]
    },
    {
      "cell_type": "code",
      "metadata": {
        "id": "ONcK7sDSWpDj",
        "outputId": "0edcdb71-e1c9-4e98-e38c-d5bb59ac136e"
      },
      "source": [
        "df.mode().head(1)"
      ],
      "execution_count": null,
      "outputs": [
        {
          "output_type": "execute_result",
          "data": {
            "text/html": [
              "<div>\n",
              "<style scoped>\n",
              "    .dataframe tbody tr th:only-of-type {\n",
              "        vertical-align: middle;\n",
              "    }\n",
              "\n",
              "    .dataframe tbody tr th {\n",
              "        vertical-align: top;\n",
              "    }\n",
              "\n",
              "    .dataframe thead th {\n",
              "        text-align: right;\n",
              "    }\n",
              "</style>\n",
              "<table border=\"1\" class=\"dataframe\">\n",
              "  <thead>\n",
              "    <tr style=\"text-align: right;\">\n",
              "      <th></th>\n",
              "      <th>symboling</th>\n",
              "      <th>normalized-losses</th>\n",
              "      <th>make</th>\n",
              "      <th>fuel-type</th>\n",
              "      <th>aspiration</th>\n",
              "      <th>num-of-doors</th>\n",
              "      <th>body-style</th>\n",
              "      <th>drive-wheels</th>\n",
              "      <th>engine-location</th>\n",
              "      <th>wheel-base</th>\n",
              "      <th>...</th>\n",
              "      <th>engine-size</th>\n",
              "      <th>fuel-system</th>\n",
              "      <th>bore</th>\n",
              "      <th>stroke</th>\n",
              "      <th>compression-ratio</th>\n",
              "      <th>horsepower</th>\n",
              "      <th>peak-rpm</th>\n",
              "      <th>city-mpg</th>\n",
              "      <th>highway-mpg</th>\n",
              "      <th>price</th>\n",
              "    </tr>\n",
              "  </thead>\n",
              "  <tbody>\n",
              "    <tr>\n",
              "      <th>0</th>\n",
              "      <td>0.0</td>\n",
              "      <td>161.0</td>\n",
              "      <td>toyota</td>\n",
              "      <td>gas</td>\n",
              "      <td>std</td>\n",
              "      <td>four</td>\n",
              "      <td>sedan</td>\n",
              "      <td>fwd</td>\n",
              "      <td>front</td>\n",
              "      <td>94.5</td>\n",
              "      <td>...</td>\n",
              "      <td>92</td>\n",
              "      <td>mpfi</td>\n",
              "      <td>3.62</td>\n",
              "      <td>3.4</td>\n",
              "      <td>9.0</td>\n",
              "      <td>68.0</td>\n",
              "      <td>5500.0</td>\n",
              "      <td>31.0</td>\n",
              "      <td>25.0</td>\n",
              "      <td>6785.0</td>\n",
              "    </tr>\n",
              "  </tbody>\n",
              "</table>\n",
              "<p>1 rows × 26 columns</p>\n",
              "</div>"
            ],
            "text/plain": [
              "   symboling  normalized-losses    make fuel-type aspiration num-of-doors  \\\n",
              "0        0.0              161.0  toyota       gas        std         four   \n",
              "\n",
              "  body-style drive-wheels engine-location  wheel-base  ...  engine-size  \\\n",
              "0      sedan          fwd           front        94.5  ...           92   \n",
              "\n",
              "   fuel-system  bore  stroke compression-ratio horsepower  peak-rpm city-mpg  \\\n",
              "0         mpfi  3.62     3.4               9.0       68.0    5500.0     31.0   \n",
              "\n",
              "   highway-mpg   price  \n",
              "0         25.0  6785.0  \n",
              "\n",
              "[1 rows x 26 columns]"
            ]
          },
          "metadata": {
            "tags": []
          },
          "execution_count": 47
        }
      ]
    },
    {
      "cell_type": "markdown",
      "metadata": {
        "id": "pZhgns4LWpDj"
      },
      "source": [
        "***Медиана***"
      ]
    },
    {
      "cell_type": "code",
      "metadata": {
        "id": "lzpuTd2zWpDk",
        "outputId": "81cfa433-730a-41a8-d3cd-070bb72758ab"
      },
      "source": [
        "df.median()"
      ],
      "execution_count": null,
      "outputs": [
        {
          "output_type": "execute_result",
          "data": {
            "text/plain": [
              "symboling                1.00\n",
              "normalized-losses      122.00\n",
              "wheel-base              97.00\n",
              "length                 173.20\n",
              "width                   65.50\n",
              "height                  54.10\n",
              "curb-weight           2414.00\n",
              "engine-size            120.00\n",
              "bore                     3.31\n",
              "stroke                   3.29\n",
              "compression-ratio        9.00\n",
              "horsepower              95.00\n",
              "peak-rpm              5200.00\n",
              "city-mpg                24.00\n",
              "highway-mpg             30.00\n",
              "price                10295.00\n",
              "dtype: float64"
            ]
          },
          "metadata": {
            "tags": []
          },
          "execution_count": 48
        }
      ]
    },
    {
      "cell_type": "markdown",
      "metadata": {
        "id": "BRqkmSGOWpDl"
      },
      "source": [
        "***мин/макс, сред. отклонение***"
      ]
    },
    {
      "cell_type": "code",
      "metadata": {
        "id": "_5yaQvr4WpDl",
        "outputId": "3a7651e7-108d-47b8-b0fa-d1deaf9131a4"
      },
      "source": [
        "df.describe()"
      ],
      "execution_count": null,
      "outputs": [
        {
          "output_type": "execute_result",
          "data": {
            "text/html": [
              "<div>\n",
              "<style scoped>\n",
              "    .dataframe tbody tr th:only-of-type {\n",
              "        vertical-align: middle;\n",
              "    }\n",
              "\n",
              "    .dataframe tbody tr th {\n",
              "        vertical-align: top;\n",
              "    }\n",
              "\n",
              "    .dataframe thead th {\n",
              "        text-align: right;\n",
              "    }\n",
              "</style>\n",
              "<table border=\"1\" class=\"dataframe\">\n",
              "  <thead>\n",
              "    <tr style=\"text-align: right;\">\n",
              "      <th></th>\n",
              "      <th>symboling</th>\n",
              "      <th>normalized-losses</th>\n",
              "      <th>wheel-base</th>\n",
              "      <th>length</th>\n",
              "      <th>width</th>\n",
              "      <th>height</th>\n",
              "      <th>curb-weight</th>\n",
              "      <th>engine-size</th>\n",
              "      <th>bore</th>\n",
              "      <th>stroke</th>\n",
              "      <th>compression-ratio</th>\n",
              "      <th>horsepower</th>\n",
              "      <th>peak-rpm</th>\n",
              "      <th>city-mpg</th>\n",
              "      <th>highway-mpg</th>\n",
              "      <th>price</th>\n",
              "    </tr>\n",
              "  </thead>\n",
              "  <tbody>\n",
              "    <tr>\n",
              "      <th>count</th>\n",
              "      <td>205.000000</td>\n",
              "      <td>205.000000</td>\n",
              "      <td>205.000000</td>\n",
              "      <td>205.000000</td>\n",
              "      <td>205.000000</td>\n",
              "      <td>205.000000</td>\n",
              "      <td>205.000000</td>\n",
              "      <td>205.000000</td>\n",
              "      <td>205.000000</td>\n",
              "      <td>205.000000</td>\n",
              "      <td>205.000000</td>\n",
              "      <td>205.000000</td>\n",
              "      <td>205.000000</td>\n",
              "      <td>205.000000</td>\n",
              "      <td>205.000000</td>\n",
              "      <td>205.000000</td>\n",
              "    </tr>\n",
              "    <tr>\n",
              "      <th>mean</th>\n",
              "      <td>0.834146</td>\n",
              "      <td>126.365854</td>\n",
              "      <td>98.756585</td>\n",
              "      <td>174.049268</td>\n",
              "      <td>65.907805</td>\n",
              "      <td>53.724878</td>\n",
              "      <td>2555.565854</td>\n",
              "      <td>126.907317</td>\n",
              "      <td>3.324878</td>\n",
              "      <td>3.253366</td>\n",
              "      <td>10.142537</td>\n",
              "      <td>106.048780</td>\n",
              "      <td>5131.463415</td>\n",
              "      <td>25.219512</td>\n",
              "      <td>30.751220</td>\n",
              "      <td>13312.712195</td>\n",
              "    </tr>\n",
              "    <tr>\n",
              "      <th>std</th>\n",
              "      <td>1.245307</td>\n",
              "      <td>35.438400</td>\n",
              "      <td>6.021776</td>\n",
              "      <td>12.337289</td>\n",
              "      <td>2.145204</td>\n",
              "      <td>2.443522</td>\n",
              "      <td>520.680204</td>\n",
              "      <td>41.642693</td>\n",
              "      <td>0.273049</td>\n",
              "      <td>0.313937</td>\n",
              "      <td>3.972040</td>\n",
              "      <td>43.468803</td>\n",
              "      <td>480.933330</td>\n",
              "      <td>6.542142</td>\n",
              "      <td>6.886443</td>\n",
              "      <td>8102.472461</td>\n",
              "    </tr>\n",
              "    <tr>\n",
              "      <th>min</th>\n",
              "      <td>-2.000000</td>\n",
              "      <td>65.000000</td>\n",
              "      <td>86.600000</td>\n",
              "      <td>141.100000</td>\n",
              "      <td>60.300000</td>\n",
              "      <td>47.800000</td>\n",
              "      <td>1488.000000</td>\n",
              "      <td>61.000000</td>\n",
              "      <td>2.540000</td>\n",
              "      <td>2.070000</td>\n",
              "      <td>7.000000</td>\n",
              "      <td>48.000000</td>\n",
              "      <td>4150.000000</td>\n",
              "      <td>13.000000</td>\n",
              "      <td>16.000000</td>\n",
              "      <td>5118.000000</td>\n",
              "    </tr>\n",
              "    <tr>\n",
              "      <th>25%</th>\n",
              "      <td>0.000000</td>\n",
              "      <td>101.000000</td>\n",
              "      <td>94.500000</td>\n",
              "      <td>166.300000</td>\n",
              "      <td>64.100000</td>\n",
              "      <td>52.000000</td>\n",
              "      <td>2145.000000</td>\n",
              "      <td>97.000000</td>\n",
              "      <td>3.130000</td>\n",
              "      <td>3.110000</td>\n",
              "      <td>8.600000</td>\n",
              "      <td>70.000000</td>\n",
              "      <td>4800.000000</td>\n",
              "      <td>19.000000</td>\n",
              "      <td>25.000000</td>\n",
              "      <td>7775.000000</td>\n",
              "    </tr>\n",
              "    <tr>\n",
              "      <th>50%</th>\n",
              "      <td>1.000000</td>\n",
              "      <td>122.000000</td>\n",
              "      <td>97.000000</td>\n",
              "      <td>173.200000</td>\n",
              "      <td>65.500000</td>\n",
              "      <td>54.100000</td>\n",
              "      <td>2414.000000</td>\n",
              "      <td>120.000000</td>\n",
              "      <td>3.310000</td>\n",
              "      <td>3.290000</td>\n",
              "      <td>9.000000</td>\n",
              "      <td>95.000000</td>\n",
              "      <td>5200.000000</td>\n",
              "      <td>24.000000</td>\n",
              "      <td>30.000000</td>\n",
              "      <td>10295.000000</td>\n",
              "    </tr>\n",
              "    <tr>\n",
              "      <th>75%</th>\n",
              "      <td>2.000000</td>\n",
              "      <td>150.000000</td>\n",
              "      <td>102.400000</td>\n",
              "      <td>183.100000</td>\n",
              "      <td>66.900000</td>\n",
              "      <td>55.500000</td>\n",
              "      <td>2935.000000</td>\n",
              "      <td>141.000000</td>\n",
              "      <td>3.580000</td>\n",
              "      <td>3.410000</td>\n",
              "      <td>9.400000</td>\n",
              "      <td>120.000000</td>\n",
              "      <td>5500.000000</td>\n",
              "      <td>30.000000</td>\n",
              "      <td>34.000000</td>\n",
              "      <td>16503.000000</td>\n",
              "    </tr>\n",
              "    <tr>\n",
              "      <th>max</th>\n",
              "      <td>3.000000</td>\n",
              "      <td>256.000000</td>\n",
              "      <td>120.900000</td>\n",
              "      <td>208.100000</td>\n",
              "      <td>72.300000</td>\n",
              "      <td>59.800000</td>\n",
              "      <td>4066.000000</td>\n",
              "      <td>326.000000</td>\n",
              "      <td>3.940000</td>\n",
              "      <td>4.170000</td>\n",
              "      <td>23.000000</td>\n",
              "      <td>288.000000</td>\n",
              "      <td>6600.000000</td>\n",
              "      <td>49.000000</td>\n",
              "      <td>54.000000</td>\n",
              "      <td>45400.000000</td>\n",
              "    </tr>\n",
              "  </tbody>\n",
              "</table>\n",
              "</div>"
            ],
            "text/plain": [
              "        symboling  normalized-losses  wheel-base      length       width  \\\n",
              "count  205.000000         205.000000  205.000000  205.000000  205.000000   \n",
              "mean     0.834146         126.365854   98.756585  174.049268   65.907805   \n",
              "std      1.245307          35.438400    6.021776   12.337289    2.145204   \n",
              "min     -2.000000          65.000000   86.600000  141.100000   60.300000   \n",
              "25%      0.000000         101.000000   94.500000  166.300000   64.100000   \n",
              "50%      1.000000         122.000000   97.000000  173.200000   65.500000   \n",
              "75%      2.000000         150.000000  102.400000  183.100000   66.900000   \n",
              "max      3.000000         256.000000  120.900000  208.100000   72.300000   \n",
              "\n",
              "           height  curb-weight  engine-size        bore      stroke  \\\n",
              "count  205.000000   205.000000   205.000000  205.000000  205.000000   \n",
              "mean    53.724878  2555.565854   126.907317    3.324878    3.253366   \n",
              "std      2.443522   520.680204    41.642693    0.273049    0.313937   \n",
              "min     47.800000  1488.000000    61.000000    2.540000    2.070000   \n",
              "25%     52.000000  2145.000000    97.000000    3.130000    3.110000   \n",
              "50%     54.100000  2414.000000   120.000000    3.310000    3.290000   \n",
              "75%     55.500000  2935.000000   141.000000    3.580000    3.410000   \n",
              "max     59.800000  4066.000000   326.000000    3.940000    4.170000   \n",
              "\n",
              "       compression-ratio  horsepower     peak-rpm    city-mpg  highway-mpg  \\\n",
              "count         205.000000  205.000000   205.000000  205.000000   205.000000   \n",
              "mean           10.142537  106.048780  5131.463415   25.219512    30.751220   \n",
              "std             3.972040   43.468803   480.933330    6.542142     6.886443   \n",
              "min             7.000000   48.000000  4150.000000   13.000000    16.000000   \n",
              "25%             8.600000   70.000000  4800.000000   19.000000    25.000000   \n",
              "50%             9.000000   95.000000  5200.000000   24.000000    30.000000   \n",
              "75%             9.400000  120.000000  5500.000000   30.000000    34.000000   \n",
              "max            23.000000  288.000000  6600.000000   49.000000    54.000000   \n",
              "\n",
              "              price  \n",
              "count    205.000000  \n",
              "mean   13312.712195  \n",
              "std     8102.472461  \n",
              "min     5118.000000  \n",
              "25%     7775.000000  \n",
              "50%    10295.000000  \n",
              "75%    16503.000000  \n",
              "max    45400.000000  "
            ]
          },
          "metadata": {
            "tags": []
          },
          "execution_count": 49
        }
      ]
    },
    {
      "cell_type": "markdown",
      "metadata": {
        "id": "lwTe3nCgWpDm"
      },
      "source": [
        "Рассчитать и визуализировать корреляционную матрицу для переменных"
      ]
    },
    {
      "cell_type": "code",
      "metadata": {
        "id": "GTEDJ8odWpDm",
        "outputId": "432bdb96-e2ed-45c5-9c69-692ab6882a81"
      },
      "source": [
        "datas=df[['symboling', 'normalized-losses',  'make',   'fuel-type',   'aspiration',   'num-of-doors',    'body-style' ,  'drive-wheels', \n",
        "    'engine-location',   'wheel-base', 'length', 'width', 'height', 'curb-weight', 'engine-type', 'num-of-cylinders', 'engine-size',\n",
        "  'fuel-system', 'bore', 'stroke', 'compression-ratio', 'horsepower', 'peak-rpm', 'city-mpg', 'highway-mpg', 'price']]\n",
        "datas.corr().style.set_precision(3)"
      ],
      "execution_count": null,
      "outputs": [
        {
          "output_type": "execute_result",
          "data": {
            "text/html": [
              "<style  type=\"text/css\" >\n",
              "</style><table id=\"T_19ebcf93_af12_11eb_9c44_dc8b28180898\" ><thead>    <tr>        <th class=\"blank level0\" ></th>        <th class=\"col_heading level0 col0\" >symboling</th>        <th class=\"col_heading level0 col1\" >normalized-losses</th>        <th class=\"col_heading level0 col2\" >wheel-base</th>        <th class=\"col_heading level0 col3\" >length</th>        <th class=\"col_heading level0 col4\" >width</th>        <th class=\"col_heading level0 col5\" >height</th>        <th class=\"col_heading level0 col6\" >curb-weight</th>        <th class=\"col_heading level0 col7\" >engine-size</th>        <th class=\"col_heading level0 col8\" >bore</th>        <th class=\"col_heading level0 col9\" >stroke</th>        <th class=\"col_heading level0 col10\" >compression-ratio</th>        <th class=\"col_heading level0 col11\" >horsepower</th>        <th class=\"col_heading level0 col12\" >peak-rpm</th>        <th class=\"col_heading level0 col13\" >city-mpg</th>        <th class=\"col_heading level0 col14\" >highway-mpg</th>        <th class=\"col_heading level0 col15\" >price</th>    </tr></thead><tbody>\n",
              "                <tr>\n",
              "                        <th id=\"T_19ebcf93_af12_11eb_9c44_dc8b28180898level0_row0\" class=\"row_heading level0 row0\" >symboling</th>\n",
              "                        <td id=\"T_19ebcf93_af12_11eb_9c44_dc8b28180898row0_col0\" class=\"data row0 col0\" >1.000</td>\n",
              "                        <td id=\"T_19ebcf93_af12_11eb_9c44_dc8b28180898row0_col1\" class=\"data row0 col1\" >0.498</td>\n",
              "                        <td id=\"T_19ebcf93_af12_11eb_9c44_dc8b28180898row0_col2\" class=\"data row0 col2\" >-0.532</td>\n",
              "                        <td id=\"T_19ebcf93_af12_11eb_9c44_dc8b28180898row0_col3\" class=\"data row0 col3\" >-0.358</td>\n",
              "                        <td id=\"T_19ebcf93_af12_11eb_9c44_dc8b28180898row0_col4\" class=\"data row0 col4\" >-0.233</td>\n",
              "                        <td id=\"T_19ebcf93_af12_11eb_9c44_dc8b28180898row0_col5\" class=\"data row0 col5\" >-0.541</td>\n",
              "                        <td id=\"T_19ebcf93_af12_11eb_9c44_dc8b28180898row0_col6\" class=\"data row0 col6\" >-0.228</td>\n",
              "                        <td id=\"T_19ebcf93_af12_11eb_9c44_dc8b28180898row0_col7\" class=\"data row0 col7\" >-0.106</td>\n",
              "                        <td id=\"T_19ebcf93_af12_11eb_9c44_dc8b28180898row0_col8\" class=\"data row0 col8\" >-0.160</td>\n",
              "                        <td id=\"T_19ebcf93_af12_11eb_9c44_dc8b28180898row0_col9\" class=\"data row0 col9\" >-0.020</td>\n",
              "                        <td id=\"T_19ebcf93_af12_11eb_9c44_dc8b28180898row0_col10\" class=\"data row0 col10\" >-0.179</td>\n",
              "                        <td id=\"T_19ebcf93_af12_11eb_9c44_dc8b28180898row0_col11\" class=\"data row0 col11\" >0.070</td>\n",
              "                        <td id=\"T_19ebcf93_af12_11eb_9c44_dc8b28180898row0_col12\" class=\"data row0 col12\" >0.273</td>\n",
              "                        <td id=\"T_19ebcf93_af12_11eb_9c44_dc8b28180898row0_col13\" class=\"data row0 col13\" >-0.036</td>\n",
              "                        <td id=\"T_19ebcf93_af12_11eb_9c44_dc8b28180898row0_col14\" class=\"data row0 col14\" >0.035</td>\n",
              "                        <td id=\"T_19ebcf93_af12_11eb_9c44_dc8b28180898row0_col15\" class=\"data row0 col15\" >-0.080</td>\n",
              "            </tr>\n",
              "            <tr>\n",
              "                        <th id=\"T_19ebcf93_af12_11eb_9c44_dc8b28180898level0_row1\" class=\"row_heading level0 row1\" >normalized-losses</th>\n",
              "                        <td id=\"T_19ebcf93_af12_11eb_9c44_dc8b28180898row1_col0\" class=\"data row1 col0\" >0.498</td>\n",
              "                        <td id=\"T_19ebcf93_af12_11eb_9c44_dc8b28180898row1_col1\" class=\"data row1 col1\" >1.000</td>\n",
              "                        <td id=\"T_19ebcf93_af12_11eb_9c44_dc8b28180898row1_col2\" class=\"data row1 col2\" >-0.030</td>\n",
              "                        <td id=\"T_19ebcf93_af12_11eb_9c44_dc8b28180898row1_col3\" class=\"data row1 col3\" >0.051</td>\n",
              "                        <td id=\"T_19ebcf93_af12_11eb_9c44_dc8b28180898row1_col4\" class=\"data row1 col4\" >0.122</td>\n",
              "                        <td id=\"T_19ebcf93_af12_11eb_9c44_dc8b28180898row1_col5\" class=\"data row1 col5\" >-0.333</td>\n",
              "                        <td id=\"T_19ebcf93_af12_11eb_9c44_dc8b28180898row1_col6\" class=\"data row1 col6\" >0.152</td>\n",
              "                        <td id=\"T_19ebcf93_af12_11eb_9c44_dc8b28180898row1_col7\" class=\"data row1 col7\" >0.166</td>\n",
              "                        <td id=\"T_19ebcf93_af12_11eb_9c44_dc8b28180898row1_col8\" class=\"data row1 col8\" >0.014</td>\n",
              "                        <td id=\"T_19ebcf93_af12_11eb_9c44_dc8b28180898row1_col9\" class=\"data row1 col9\" >0.039</td>\n",
              "                        <td id=\"T_19ebcf93_af12_11eb_9c44_dc8b28180898row1_col10\" class=\"data row1 col10\" >-0.149</td>\n",
              "                        <td id=\"T_19ebcf93_af12_11eb_9c44_dc8b28180898row1_col11\" class=\"data row1 col11\" >0.275</td>\n",
              "                        <td id=\"T_19ebcf93_af12_11eb_9c44_dc8b28180898row1_col12\" class=\"data row1 col12\" >0.235</td>\n",
              "                        <td id=\"T_19ebcf93_af12_11eb_9c44_dc8b28180898row1_col13\" class=\"data row1 col13\" >-0.290</td>\n",
              "                        <td id=\"T_19ebcf93_af12_11eb_9c44_dc8b28180898row1_col14\" class=\"data row1 col14\" >-0.256</td>\n",
              "                        <td id=\"T_19ebcf93_af12_11eb_9c44_dc8b28180898row1_col15\" class=\"data row1 col15\" >0.200</td>\n",
              "            </tr>\n",
              "            <tr>\n",
              "                        <th id=\"T_19ebcf93_af12_11eb_9c44_dc8b28180898level0_row2\" class=\"row_heading level0 row2\" >wheel-base</th>\n",
              "                        <td id=\"T_19ebcf93_af12_11eb_9c44_dc8b28180898row2_col0\" class=\"data row2 col0\" >-0.532</td>\n",
              "                        <td id=\"T_19ebcf93_af12_11eb_9c44_dc8b28180898row2_col1\" class=\"data row2 col1\" >-0.030</td>\n",
              "                        <td id=\"T_19ebcf93_af12_11eb_9c44_dc8b28180898row2_col2\" class=\"data row2 col2\" >1.000</td>\n",
              "                        <td id=\"T_19ebcf93_af12_11eb_9c44_dc8b28180898row2_col3\" class=\"data row2 col3\" >0.875</td>\n",
              "                        <td id=\"T_19ebcf93_af12_11eb_9c44_dc8b28180898row2_col4\" class=\"data row2 col4\" >0.795</td>\n",
              "                        <td id=\"T_19ebcf93_af12_11eb_9c44_dc8b28180898row2_col5\" class=\"data row2 col5\" >0.589</td>\n",
              "                        <td id=\"T_19ebcf93_af12_11eb_9c44_dc8b28180898row2_col6\" class=\"data row2 col6\" >0.776</td>\n",
              "                        <td id=\"T_19ebcf93_af12_11eb_9c44_dc8b28180898row2_col7\" class=\"data row2 col7\" >0.569</td>\n",
              "                        <td id=\"T_19ebcf93_af12_11eb_9c44_dc8b28180898row2_col8\" class=\"data row2 col8\" >0.495</td>\n",
              "                        <td id=\"T_19ebcf93_af12_11eb_9c44_dc8b28180898row2_col9\" class=\"data row2 col9\" >0.165</td>\n",
              "                        <td id=\"T_19ebcf93_af12_11eb_9c44_dc8b28180898row2_col10\" class=\"data row2 col10\" >0.250</td>\n",
              "                        <td id=\"T_19ebcf93_af12_11eb_9c44_dc8b28180898row2_col11\" class=\"data row2 col11\" >0.302</td>\n",
              "                        <td id=\"T_19ebcf93_af12_11eb_9c44_dc8b28180898row2_col12\" class=\"data row2 col12\" >-0.363</td>\n",
              "                        <td id=\"T_19ebcf93_af12_11eb_9c44_dc8b28180898row2_col13\" class=\"data row2 col13\" >-0.470</td>\n",
              "                        <td id=\"T_19ebcf93_af12_11eb_9c44_dc8b28180898row2_col14\" class=\"data row2 col14\" >-0.544</td>\n",
              "                        <td id=\"T_19ebcf93_af12_11eb_9c44_dc8b28180898row2_col15\" class=\"data row2 col15\" >0.572</td>\n",
              "            </tr>\n",
              "            <tr>\n",
              "                        <th id=\"T_19ebcf93_af12_11eb_9c44_dc8b28180898level0_row3\" class=\"row_heading level0 row3\" >length</th>\n",
              "                        <td id=\"T_19ebcf93_af12_11eb_9c44_dc8b28180898row3_col0\" class=\"data row3 col0\" >-0.358</td>\n",
              "                        <td id=\"T_19ebcf93_af12_11eb_9c44_dc8b28180898row3_col1\" class=\"data row3 col1\" >0.051</td>\n",
              "                        <td id=\"T_19ebcf93_af12_11eb_9c44_dc8b28180898row3_col2\" class=\"data row3 col2\" >0.875</td>\n",
              "                        <td id=\"T_19ebcf93_af12_11eb_9c44_dc8b28180898row3_col3\" class=\"data row3 col3\" >1.000</td>\n",
              "                        <td id=\"T_19ebcf93_af12_11eb_9c44_dc8b28180898row3_col4\" class=\"data row3 col4\" >0.841</td>\n",
              "                        <td id=\"T_19ebcf93_af12_11eb_9c44_dc8b28180898row3_col5\" class=\"data row3 col5\" >0.491</td>\n",
              "                        <td id=\"T_19ebcf93_af12_11eb_9c44_dc8b28180898row3_col6\" class=\"data row3 col6\" >0.878</td>\n",
              "                        <td id=\"T_19ebcf93_af12_11eb_9c44_dc8b28180898row3_col7\" class=\"data row3 col7\" >0.683</td>\n",
              "                        <td id=\"T_19ebcf93_af12_11eb_9c44_dc8b28180898row3_col8\" class=\"data row3 col8\" >0.609</td>\n",
              "                        <td id=\"T_19ebcf93_af12_11eb_9c44_dc8b28180898row3_col9\" class=\"data row3 col9\" >0.132</td>\n",
              "                        <td id=\"T_19ebcf93_af12_11eb_9c44_dc8b28180898row3_col10\" class=\"data row3 col10\" >0.158</td>\n",
              "                        <td id=\"T_19ebcf93_af12_11eb_9c44_dc8b28180898row3_col11\" class=\"data row3 col11\" >0.521</td>\n",
              "                        <td id=\"T_19ebcf93_af12_11eb_9c44_dc8b28180898row3_col12\" class=\"data row3 col12\" >-0.279</td>\n",
              "                        <td id=\"T_19ebcf93_af12_11eb_9c44_dc8b28180898row3_col13\" class=\"data row3 col13\" >-0.671</td>\n",
              "                        <td id=\"T_19ebcf93_af12_11eb_9c44_dc8b28180898row3_col14\" class=\"data row3 col14\" >-0.705</td>\n",
              "                        <td id=\"T_19ebcf93_af12_11eb_9c44_dc8b28180898row3_col15\" class=\"data row3 col15\" >0.679</td>\n",
              "            </tr>\n",
              "            <tr>\n",
              "                        <th id=\"T_19ebcf93_af12_11eb_9c44_dc8b28180898level0_row4\" class=\"row_heading level0 row4\" >width</th>\n",
              "                        <td id=\"T_19ebcf93_af12_11eb_9c44_dc8b28180898row4_col0\" class=\"data row4 col0\" >-0.233</td>\n",
              "                        <td id=\"T_19ebcf93_af12_11eb_9c44_dc8b28180898row4_col1\" class=\"data row4 col1\" >0.122</td>\n",
              "                        <td id=\"T_19ebcf93_af12_11eb_9c44_dc8b28180898row4_col2\" class=\"data row4 col2\" >0.795</td>\n",
              "                        <td id=\"T_19ebcf93_af12_11eb_9c44_dc8b28180898row4_col3\" class=\"data row4 col3\" >0.841</td>\n",
              "                        <td id=\"T_19ebcf93_af12_11eb_9c44_dc8b28180898row4_col4\" class=\"data row4 col4\" >1.000</td>\n",
              "                        <td id=\"T_19ebcf93_af12_11eb_9c44_dc8b28180898row4_col5\" class=\"data row4 col5\" >0.279</td>\n",
              "                        <td id=\"T_19ebcf93_af12_11eb_9c44_dc8b28180898row4_col6\" class=\"data row4 col6\" >0.867</td>\n",
              "                        <td id=\"T_19ebcf93_af12_11eb_9c44_dc8b28180898row4_col7\" class=\"data row4 col7\" >0.735</td>\n",
              "                        <td id=\"T_19ebcf93_af12_11eb_9c44_dc8b28180898row4_col8\" class=\"data row4 col8\" >0.556</td>\n",
              "                        <td id=\"T_19ebcf93_af12_11eb_9c44_dc8b28180898row4_col9\" class=\"data row4 col9\" >0.183</td>\n",
              "                        <td id=\"T_19ebcf93_af12_11eb_9c44_dc8b28180898row4_col10\" class=\"data row4 col10\" >0.181</td>\n",
              "                        <td id=\"T_19ebcf93_af12_11eb_9c44_dc8b28180898row4_col11\" class=\"data row4 col11\" >0.596</td>\n",
              "                        <td id=\"T_19ebcf93_af12_11eb_9c44_dc8b28180898row4_col12\" class=\"data row4 col12\" >-0.214</td>\n",
              "                        <td id=\"T_19ebcf93_af12_11eb_9c44_dc8b28180898row4_col13\" class=\"data row4 col13\" >-0.643</td>\n",
              "                        <td id=\"T_19ebcf93_af12_11eb_9c44_dc8b28180898row4_col14\" class=\"data row4 col14\" >-0.677</td>\n",
              "                        <td id=\"T_19ebcf93_af12_11eb_9c44_dc8b28180898row4_col15\" class=\"data row4 col15\" >0.765</td>\n",
              "            </tr>\n",
              "            <tr>\n",
              "                        <th id=\"T_19ebcf93_af12_11eb_9c44_dc8b28180898level0_row5\" class=\"row_heading level0 row5\" >height</th>\n",
              "                        <td id=\"T_19ebcf93_af12_11eb_9c44_dc8b28180898row5_col0\" class=\"data row5 col0\" >-0.541</td>\n",
              "                        <td id=\"T_19ebcf93_af12_11eb_9c44_dc8b28180898row5_col1\" class=\"data row5 col1\" >-0.333</td>\n",
              "                        <td id=\"T_19ebcf93_af12_11eb_9c44_dc8b28180898row5_col2\" class=\"data row5 col2\" >0.589</td>\n",
              "                        <td id=\"T_19ebcf93_af12_11eb_9c44_dc8b28180898row5_col3\" class=\"data row5 col3\" >0.491</td>\n",
              "                        <td id=\"T_19ebcf93_af12_11eb_9c44_dc8b28180898row5_col4\" class=\"data row5 col4\" >0.279</td>\n",
              "                        <td id=\"T_19ebcf93_af12_11eb_9c44_dc8b28180898row5_col5\" class=\"data row5 col5\" >1.000</td>\n",
              "                        <td id=\"T_19ebcf93_af12_11eb_9c44_dc8b28180898row5_col6\" class=\"data row5 col6\" >0.296</td>\n",
              "                        <td id=\"T_19ebcf93_af12_11eb_9c44_dc8b28180898row5_col7\" class=\"data row5 col7\" >0.067</td>\n",
              "                        <td id=\"T_19ebcf93_af12_11eb_9c44_dc8b28180898row5_col8\" class=\"data row5 col8\" >0.200</td>\n",
              "                        <td id=\"T_19ebcf93_af12_11eb_9c44_dc8b28180898row5_col9\" class=\"data row5 col9\" >-0.044</td>\n",
              "                        <td id=\"T_19ebcf93_af12_11eb_9c44_dc8b28180898row5_col10\" class=\"data row5 col10\" >0.261</td>\n",
              "                        <td id=\"T_19ebcf93_af12_11eb_9c44_dc8b28180898row5_col11\" class=\"data row5 col11\" >-0.115</td>\n",
              "                        <td id=\"T_19ebcf93_af12_11eb_9c44_dc8b28180898row5_col12\" class=\"data row5 col12\" >-0.323</td>\n",
              "                        <td id=\"T_19ebcf93_af12_11eb_9c44_dc8b28180898row5_col13\" class=\"data row5 col13\" >-0.049</td>\n",
              "                        <td id=\"T_19ebcf93_af12_11eb_9c44_dc8b28180898row5_col14\" class=\"data row5 col14\" >-0.107</td>\n",
              "                        <td id=\"T_19ebcf93_af12_11eb_9c44_dc8b28180898row5_col15\" class=\"data row5 col15\" >0.112</td>\n",
              "            </tr>\n",
              "            <tr>\n",
              "                        <th id=\"T_19ebcf93_af12_11eb_9c44_dc8b28180898level0_row6\" class=\"row_heading level0 row6\" >curb-weight</th>\n",
              "                        <td id=\"T_19ebcf93_af12_11eb_9c44_dc8b28180898row6_col0\" class=\"data row6 col0\" >-0.228</td>\n",
              "                        <td id=\"T_19ebcf93_af12_11eb_9c44_dc8b28180898row6_col1\" class=\"data row6 col1\" >0.152</td>\n",
              "                        <td id=\"T_19ebcf93_af12_11eb_9c44_dc8b28180898row6_col2\" class=\"data row6 col2\" >0.776</td>\n",
              "                        <td id=\"T_19ebcf93_af12_11eb_9c44_dc8b28180898row6_col3\" class=\"data row6 col3\" >0.878</td>\n",
              "                        <td id=\"T_19ebcf93_af12_11eb_9c44_dc8b28180898row6_col4\" class=\"data row6 col4\" >0.867</td>\n",
              "                        <td id=\"T_19ebcf93_af12_11eb_9c44_dc8b28180898row6_col5\" class=\"data row6 col5\" >0.296</td>\n",
              "                        <td id=\"T_19ebcf93_af12_11eb_9c44_dc8b28180898row6_col6\" class=\"data row6 col6\" >1.000</td>\n",
              "                        <td id=\"T_19ebcf93_af12_11eb_9c44_dc8b28180898row6_col7\" class=\"data row6 col7\" >0.851</td>\n",
              "                        <td id=\"T_19ebcf93_af12_11eb_9c44_dc8b28180898row6_col8\" class=\"data row6 col8\" >0.648</td>\n",
              "                        <td id=\"T_19ebcf93_af12_11eb_9c44_dc8b28180898row6_col9\" class=\"data row6 col9\" >0.170</td>\n",
              "                        <td id=\"T_19ebcf93_af12_11eb_9c44_dc8b28180898row6_col10\" class=\"data row6 col10\" >0.151</td>\n",
              "                        <td id=\"T_19ebcf93_af12_11eb_9c44_dc8b28180898row6_col11\" class=\"data row6 col11\" >0.680</td>\n",
              "                        <td id=\"T_19ebcf93_af12_11eb_9c44_dc8b28180898row6_col12\" class=\"data row6 col12\" >-0.265</td>\n",
              "                        <td id=\"T_19ebcf93_af12_11eb_9c44_dc8b28180898row6_col13\" class=\"data row6 col13\" >-0.757</td>\n",
              "                        <td id=\"T_19ebcf93_af12_11eb_9c44_dc8b28180898row6_col14\" class=\"data row6 col14\" >-0.797</td>\n",
              "                        <td id=\"T_19ebcf93_af12_11eb_9c44_dc8b28180898row6_col15\" class=\"data row6 col15\" >0.836</td>\n",
              "            </tr>\n",
              "            <tr>\n",
              "                        <th id=\"T_19ebcf93_af12_11eb_9c44_dc8b28180898level0_row7\" class=\"row_heading level0 row7\" >engine-size</th>\n",
              "                        <td id=\"T_19ebcf93_af12_11eb_9c44_dc8b28180898row7_col0\" class=\"data row7 col0\" >-0.106</td>\n",
              "                        <td id=\"T_19ebcf93_af12_11eb_9c44_dc8b28180898row7_col1\" class=\"data row7 col1\" >0.166</td>\n",
              "                        <td id=\"T_19ebcf93_af12_11eb_9c44_dc8b28180898row7_col2\" class=\"data row7 col2\" >0.569</td>\n",
              "                        <td id=\"T_19ebcf93_af12_11eb_9c44_dc8b28180898row7_col3\" class=\"data row7 col3\" >0.683</td>\n",
              "                        <td id=\"T_19ebcf93_af12_11eb_9c44_dc8b28180898row7_col4\" class=\"data row7 col4\" >0.735</td>\n",
              "                        <td id=\"T_19ebcf93_af12_11eb_9c44_dc8b28180898row7_col5\" class=\"data row7 col5\" >0.067</td>\n",
              "                        <td id=\"T_19ebcf93_af12_11eb_9c44_dc8b28180898row7_col6\" class=\"data row7 col6\" >0.851</td>\n",
              "                        <td id=\"T_19ebcf93_af12_11eb_9c44_dc8b28180898row7_col7\" class=\"data row7 col7\" >1.000</td>\n",
              "                        <td id=\"T_19ebcf93_af12_11eb_9c44_dc8b28180898row7_col8\" class=\"data row7 col8\" >0.603</td>\n",
              "                        <td id=\"T_19ebcf93_af12_11eb_9c44_dc8b28180898row7_col9\" class=\"data row7 col9\" >0.211</td>\n",
              "                        <td id=\"T_19ebcf93_af12_11eb_9c44_dc8b28180898row7_col10\" class=\"data row7 col10\" >0.029</td>\n",
              "                        <td id=\"T_19ebcf93_af12_11eb_9c44_dc8b28180898row7_col11\" class=\"data row7 col11\" >0.742</td>\n",
              "                        <td id=\"T_19ebcf93_af12_11eb_9c44_dc8b28180898row7_col12\" class=\"data row7 col12\" >-0.241</td>\n",
              "                        <td id=\"T_19ebcf93_af12_11eb_9c44_dc8b28180898row7_col13\" class=\"data row7 col13\" >-0.654</td>\n",
              "                        <td id=\"T_19ebcf93_af12_11eb_9c44_dc8b28180898row7_col14\" class=\"data row7 col14\" >-0.677</td>\n",
              "                        <td id=\"T_19ebcf93_af12_11eb_9c44_dc8b28180898row7_col15\" class=\"data row7 col15\" >0.871</td>\n",
              "            </tr>\n",
              "            <tr>\n",
              "                        <th id=\"T_19ebcf93_af12_11eb_9c44_dc8b28180898level0_row8\" class=\"row_heading level0 row8\" >bore</th>\n",
              "                        <td id=\"T_19ebcf93_af12_11eb_9c44_dc8b28180898row8_col0\" class=\"data row8 col0\" >-0.160</td>\n",
              "                        <td id=\"T_19ebcf93_af12_11eb_9c44_dc8b28180898row8_col1\" class=\"data row8 col1\" >0.014</td>\n",
              "                        <td id=\"T_19ebcf93_af12_11eb_9c44_dc8b28180898row8_col2\" class=\"data row8 col2\" >0.495</td>\n",
              "                        <td id=\"T_19ebcf93_af12_11eb_9c44_dc8b28180898row8_col3\" class=\"data row8 col3\" >0.609</td>\n",
              "                        <td id=\"T_19ebcf93_af12_11eb_9c44_dc8b28180898row8_col4\" class=\"data row8 col4\" >0.556</td>\n",
              "                        <td id=\"T_19ebcf93_af12_11eb_9c44_dc8b28180898row8_col5\" class=\"data row8 col5\" >0.200</td>\n",
              "                        <td id=\"T_19ebcf93_af12_11eb_9c44_dc8b28180898row8_col6\" class=\"data row8 col6\" >0.648</td>\n",
              "                        <td id=\"T_19ebcf93_af12_11eb_9c44_dc8b28180898row8_col7\" class=\"data row8 col7\" >0.603</td>\n",
              "                        <td id=\"T_19ebcf93_af12_11eb_9c44_dc8b28180898row8_col8\" class=\"data row8 col8\" >1.000</td>\n",
              "                        <td id=\"T_19ebcf93_af12_11eb_9c44_dc8b28180898row8_col9\" class=\"data row8 col9\" >-0.049</td>\n",
              "                        <td id=\"T_19ebcf93_af12_11eb_9c44_dc8b28180898row8_col10\" class=\"data row8 col10\" >0.009</td>\n",
              "                        <td id=\"T_19ebcf93_af12_11eb_9c44_dc8b28180898row8_col11\" class=\"data row8 col11\" >0.538</td>\n",
              "                        <td id=\"T_19ebcf93_af12_11eb_9c44_dc8b28180898row8_col12\" class=\"data row8 col12\" >-0.277</td>\n",
              "                        <td id=\"T_19ebcf93_af12_11eb_9c44_dc8b28180898row8_col13\" class=\"data row8 col13\" >-0.557</td>\n",
              "                        <td id=\"T_19ebcf93_af12_11eb_9c44_dc8b28180898row8_col14\" class=\"data row8 col14\" >-0.562</td>\n",
              "                        <td id=\"T_19ebcf93_af12_11eb_9c44_dc8b28180898row8_col15\" class=\"data row8 col15\" >0.549</td>\n",
              "            </tr>\n",
              "            <tr>\n",
              "                        <th id=\"T_19ebcf93_af12_11eb_9c44_dc8b28180898level0_row9\" class=\"row_heading level0 row9\" >stroke</th>\n",
              "                        <td id=\"T_19ebcf93_af12_11eb_9c44_dc8b28180898row9_col0\" class=\"data row9 col0\" >-0.020</td>\n",
              "                        <td id=\"T_19ebcf93_af12_11eb_9c44_dc8b28180898row9_col1\" class=\"data row9 col1\" >0.039</td>\n",
              "                        <td id=\"T_19ebcf93_af12_11eb_9c44_dc8b28180898row9_col2\" class=\"data row9 col2\" >0.165</td>\n",
              "                        <td id=\"T_19ebcf93_af12_11eb_9c44_dc8b28180898row9_col3\" class=\"data row9 col3\" >0.132</td>\n",
              "                        <td id=\"T_19ebcf93_af12_11eb_9c44_dc8b28180898row9_col4\" class=\"data row9 col4\" >0.183</td>\n",
              "                        <td id=\"T_19ebcf93_af12_11eb_9c44_dc8b28180898row9_col5\" class=\"data row9 col5\" >-0.044</td>\n",
              "                        <td id=\"T_19ebcf93_af12_11eb_9c44_dc8b28180898row9_col6\" class=\"data row9 col6\" >0.170</td>\n",
              "                        <td id=\"T_19ebcf93_af12_11eb_9c44_dc8b28180898row9_col7\" class=\"data row9 col7\" >0.211</td>\n",
              "                        <td id=\"T_19ebcf93_af12_11eb_9c44_dc8b28180898row9_col8\" class=\"data row9 col8\" >-0.049</td>\n",
              "                        <td id=\"T_19ebcf93_af12_11eb_9c44_dc8b28180898row9_col9\" class=\"data row9 col9\" >1.000</td>\n",
              "                        <td id=\"T_19ebcf93_af12_11eb_9c44_dc8b28180898row9_col10\" class=\"data row9 col10\" >0.187</td>\n",
              "                        <td id=\"T_19ebcf93_af12_11eb_9c44_dc8b28180898row9_col11\" class=\"data row9 col11\" >0.165</td>\n",
              "                        <td id=\"T_19ebcf93_af12_11eb_9c44_dc8b28180898row9_col12\" class=\"data row9 col12\" >-0.052</td>\n",
              "                        <td id=\"T_19ebcf93_af12_11eb_9c44_dc8b28180898row9_col13\" class=\"data row9 col13\" >-0.034</td>\n",
              "                        <td id=\"T_19ebcf93_af12_11eb_9c44_dc8b28180898row9_col14\" class=\"data row9 col14\" >-0.037</td>\n",
              "                        <td id=\"T_19ebcf93_af12_11eb_9c44_dc8b28180898row9_col15\" class=\"data row9 col15\" >0.080</td>\n",
              "            </tr>\n",
              "            <tr>\n",
              "                        <th id=\"T_19ebcf93_af12_11eb_9c44_dc8b28180898level0_row10\" class=\"row_heading level0 row10\" >compression-ratio</th>\n",
              "                        <td id=\"T_19ebcf93_af12_11eb_9c44_dc8b28180898row10_col0\" class=\"data row10 col0\" >-0.179</td>\n",
              "                        <td id=\"T_19ebcf93_af12_11eb_9c44_dc8b28180898row10_col1\" class=\"data row10 col1\" >-0.149</td>\n",
              "                        <td id=\"T_19ebcf93_af12_11eb_9c44_dc8b28180898row10_col2\" class=\"data row10 col2\" >0.250</td>\n",
              "                        <td id=\"T_19ebcf93_af12_11eb_9c44_dc8b28180898row10_col3\" class=\"data row10 col3\" >0.158</td>\n",
              "                        <td id=\"T_19ebcf93_af12_11eb_9c44_dc8b28180898row10_col4\" class=\"data row10 col4\" >0.181</td>\n",
              "                        <td id=\"T_19ebcf93_af12_11eb_9c44_dc8b28180898row10_col5\" class=\"data row10 col5\" >0.261</td>\n",
              "                        <td id=\"T_19ebcf93_af12_11eb_9c44_dc8b28180898row10_col6\" class=\"data row10 col6\" >0.151</td>\n",
              "                        <td id=\"T_19ebcf93_af12_11eb_9c44_dc8b28180898row10_col7\" class=\"data row10 col7\" >0.029</td>\n",
              "                        <td id=\"T_19ebcf93_af12_11eb_9c44_dc8b28180898row10_col8\" class=\"data row10 col8\" >0.009</td>\n",
              "                        <td id=\"T_19ebcf93_af12_11eb_9c44_dc8b28180898row10_col9\" class=\"data row10 col9\" >0.187</td>\n",
              "                        <td id=\"T_19ebcf93_af12_11eb_9c44_dc8b28180898row10_col10\" class=\"data row10 col10\" >1.000</td>\n",
              "                        <td id=\"T_19ebcf93_af12_11eb_9c44_dc8b28180898row10_col11\" class=\"data row10 col11\" >-0.202</td>\n",
              "                        <td id=\"T_19ebcf93_af12_11eb_9c44_dc8b28180898row10_col12\" class=\"data row10 col12\" >-0.437</td>\n",
              "                        <td id=\"T_19ebcf93_af12_11eb_9c44_dc8b28180898row10_col13\" class=\"data row10 col13\" >0.325</td>\n",
              "                        <td id=\"T_19ebcf93_af12_11eb_9c44_dc8b28180898row10_col14\" class=\"data row10 col14\" >0.265</td>\n",
              "                        <td id=\"T_19ebcf93_af12_11eb_9c44_dc8b28180898row10_col15\" class=\"data row10 col15\" >0.064</td>\n",
              "            </tr>\n",
              "            <tr>\n",
              "                        <th id=\"T_19ebcf93_af12_11eb_9c44_dc8b28180898level0_row11\" class=\"row_heading level0 row11\" >horsepower</th>\n",
              "                        <td id=\"T_19ebcf93_af12_11eb_9c44_dc8b28180898row11_col0\" class=\"data row11 col0\" >0.070</td>\n",
              "                        <td id=\"T_19ebcf93_af12_11eb_9c44_dc8b28180898row11_col1\" class=\"data row11 col1\" >0.275</td>\n",
              "                        <td id=\"T_19ebcf93_af12_11eb_9c44_dc8b28180898row11_col2\" class=\"data row11 col2\" >0.302</td>\n",
              "                        <td id=\"T_19ebcf93_af12_11eb_9c44_dc8b28180898row11_col3\" class=\"data row11 col3\" >0.521</td>\n",
              "                        <td id=\"T_19ebcf93_af12_11eb_9c44_dc8b28180898row11_col4\" class=\"data row11 col4\" >0.596</td>\n",
              "                        <td id=\"T_19ebcf93_af12_11eb_9c44_dc8b28180898row11_col5\" class=\"data row11 col5\" >-0.115</td>\n",
              "                        <td id=\"T_19ebcf93_af12_11eb_9c44_dc8b28180898row11_col6\" class=\"data row11 col6\" >0.680</td>\n",
              "                        <td id=\"T_19ebcf93_af12_11eb_9c44_dc8b28180898row11_col7\" class=\"data row11 col7\" >0.742</td>\n",
              "                        <td id=\"T_19ebcf93_af12_11eb_9c44_dc8b28180898row11_col8\" class=\"data row11 col8\" >0.538</td>\n",
              "                        <td id=\"T_19ebcf93_af12_11eb_9c44_dc8b28180898row11_col9\" class=\"data row11 col9\" >0.165</td>\n",
              "                        <td id=\"T_19ebcf93_af12_11eb_9c44_dc8b28180898row11_col10\" class=\"data row11 col10\" >-0.202</td>\n",
              "                        <td id=\"T_19ebcf93_af12_11eb_9c44_dc8b28180898row11_col11\" class=\"data row11 col11\" >1.000</td>\n",
              "                        <td id=\"T_19ebcf93_af12_11eb_9c44_dc8b28180898row11_col12\" class=\"data row11 col12\" >0.171</td>\n",
              "                        <td id=\"T_19ebcf93_af12_11eb_9c44_dc8b28180898row11_col13\" class=\"data row11 col13\" >-0.744</td>\n",
              "                        <td id=\"T_19ebcf93_af12_11eb_9c44_dc8b28180898row11_col14\" class=\"data row11 col14\" >-0.699</td>\n",
              "                        <td id=\"T_19ebcf93_af12_11eb_9c44_dc8b28180898row11_col15\" class=\"data row11 col15\" >0.725</td>\n",
              "            </tr>\n",
              "            <tr>\n",
              "                        <th id=\"T_19ebcf93_af12_11eb_9c44_dc8b28180898level0_row12\" class=\"row_heading level0 row12\" >peak-rpm</th>\n",
              "                        <td id=\"T_19ebcf93_af12_11eb_9c44_dc8b28180898row12_col0\" class=\"data row12 col0\" >0.273</td>\n",
              "                        <td id=\"T_19ebcf93_af12_11eb_9c44_dc8b28180898row12_col1\" class=\"data row12 col1\" >0.235</td>\n",
              "                        <td id=\"T_19ebcf93_af12_11eb_9c44_dc8b28180898row12_col2\" class=\"data row12 col2\" >-0.363</td>\n",
              "                        <td id=\"T_19ebcf93_af12_11eb_9c44_dc8b28180898row12_col3\" class=\"data row12 col3\" >-0.279</td>\n",
              "                        <td id=\"T_19ebcf93_af12_11eb_9c44_dc8b28180898row12_col4\" class=\"data row12 col4\" >-0.214</td>\n",
              "                        <td id=\"T_19ebcf93_af12_11eb_9c44_dc8b28180898row12_col5\" class=\"data row12 col5\" >-0.323</td>\n",
              "                        <td id=\"T_19ebcf93_af12_11eb_9c44_dc8b28180898row12_col6\" class=\"data row12 col6\" >-0.265</td>\n",
              "                        <td id=\"T_19ebcf93_af12_11eb_9c44_dc8b28180898row12_col7\" class=\"data row12 col7\" >-0.241</td>\n",
              "                        <td id=\"T_19ebcf93_af12_11eb_9c44_dc8b28180898row12_col8\" class=\"data row12 col8\" >-0.277</td>\n",
              "                        <td id=\"T_19ebcf93_af12_11eb_9c44_dc8b28180898row12_col9\" class=\"data row12 col9\" >-0.052</td>\n",
              "                        <td id=\"T_19ebcf93_af12_11eb_9c44_dc8b28180898row12_col10\" class=\"data row12 col10\" >-0.437</td>\n",
              "                        <td id=\"T_19ebcf93_af12_11eb_9c44_dc8b28180898row12_col11\" class=\"data row12 col11\" >0.171</td>\n",
              "                        <td id=\"T_19ebcf93_af12_11eb_9c44_dc8b28180898row12_col12\" class=\"data row12 col12\" >1.000</td>\n",
              "                        <td id=\"T_19ebcf93_af12_11eb_9c44_dc8b28180898row12_col13\" class=\"data row12 col13\" >-0.117</td>\n",
              "                        <td id=\"T_19ebcf93_af12_11eb_9c44_dc8b28180898row12_col14\" class=\"data row12 col14\" >-0.053</td>\n",
              "                        <td id=\"T_19ebcf93_af12_11eb_9c44_dc8b28180898row12_col15\" class=\"data row12 col15\" >-0.084</td>\n",
              "            </tr>\n",
              "            <tr>\n",
              "                        <th id=\"T_19ebcf93_af12_11eb_9c44_dc8b28180898level0_row13\" class=\"row_heading level0 row13\" >city-mpg</th>\n",
              "                        <td id=\"T_19ebcf93_af12_11eb_9c44_dc8b28180898row13_col0\" class=\"data row13 col0\" >-0.036</td>\n",
              "                        <td id=\"T_19ebcf93_af12_11eb_9c44_dc8b28180898row13_col1\" class=\"data row13 col1\" >-0.290</td>\n",
              "                        <td id=\"T_19ebcf93_af12_11eb_9c44_dc8b28180898row13_col2\" class=\"data row13 col2\" >-0.470</td>\n",
              "                        <td id=\"T_19ebcf93_af12_11eb_9c44_dc8b28180898row13_col3\" class=\"data row13 col3\" >-0.671</td>\n",
              "                        <td id=\"T_19ebcf93_af12_11eb_9c44_dc8b28180898row13_col4\" class=\"data row13 col4\" >-0.643</td>\n",
              "                        <td id=\"T_19ebcf93_af12_11eb_9c44_dc8b28180898row13_col5\" class=\"data row13 col5\" >-0.049</td>\n",
              "                        <td id=\"T_19ebcf93_af12_11eb_9c44_dc8b28180898row13_col6\" class=\"data row13 col6\" >-0.757</td>\n",
              "                        <td id=\"T_19ebcf93_af12_11eb_9c44_dc8b28180898row13_col7\" class=\"data row13 col7\" >-0.654</td>\n",
              "                        <td id=\"T_19ebcf93_af12_11eb_9c44_dc8b28180898row13_col8\" class=\"data row13 col8\" >-0.557</td>\n",
              "                        <td id=\"T_19ebcf93_af12_11eb_9c44_dc8b28180898row13_col9\" class=\"data row13 col9\" >-0.034</td>\n",
              "                        <td id=\"T_19ebcf93_af12_11eb_9c44_dc8b28180898row13_col10\" class=\"data row13 col10\" >0.325</td>\n",
              "                        <td id=\"T_19ebcf93_af12_11eb_9c44_dc8b28180898row13_col11\" class=\"data row13 col11\" >-0.744</td>\n",
              "                        <td id=\"T_19ebcf93_af12_11eb_9c44_dc8b28180898row13_col12\" class=\"data row13 col12\" >-0.117</td>\n",
              "                        <td id=\"T_19ebcf93_af12_11eb_9c44_dc8b28180898row13_col13\" class=\"data row13 col13\" >1.000</td>\n",
              "                        <td id=\"T_19ebcf93_af12_11eb_9c44_dc8b28180898row13_col14\" class=\"data row13 col14\" >0.971</td>\n",
              "                        <td id=\"T_19ebcf93_af12_11eb_9c44_dc8b28180898row13_col15\" class=\"data row13 col15\" >-0.691</td>\n",
              "            </tr>\n",
              "            <tr>\n",
              "                        <th id=\"T_19ebcf93_af12_11eb_9c44_dc8b28180898level0_row14\" class=\"row_heading level0 row14\" >highway-mpg</th>\n",
              "                        <td id=\"T_19ebcf93_af12_11eb_9c44_dc8b28180898row14_col0\" class=\"data row14 col0\" >0.035</td>\n",
              "                        <td id=\"T_19ebcf93_af12_11eb_9c44_dc8b28180898row14_col1\" class=\"data row14 col1\" >-0.256</td>\n",
              "                        <td id=\"T_19ebcf93_af12_11eb_9c44_dc8b28180898row14_col2\" class=\"data row14 col2\" >-0.544</td>\n",
              "                        <td id=\"T_19ebcf93_af12_11eb_9c44_dc8b28180898row14_col3\" class=\"data row14 col3\" >-0.705</td>\n",
              "                        <td id=\"T_19ebcf93_af12_11eb_9c44_dc8b28180898row14_col4\" class=\"data row14 col4\" >-0.677</td>\n",
              "                        <td id=\"T_19ebcf93_af12_11eb_9c44_dc8b28180898row14_col5\" class=\"data row14 col5\" >-0.107</td>\n",
              "                        <td id=\"T_19ebcf93_af12_11eb_9c44_dc8b28180898row14_col6\" class=\"data row14 col6\" >-0.797</td>\n",
              "                        <td id=\"T_19ebcf93_af12_11eb_9c44_dc8b28180898row14_col7\" class=\"data row14 col7\" >-0.677</td>\n",
              "                        <td id=\"T_19ebcf93_af12_11eb_9c44_dc8b28180898row14_col8\" class=\"data row14 col8\" >-0.562</td>\n",
              "                        <td id=\"T_19ebcf93_af12_11eb_9c44_dc8b28180898row14_col9\" class=\"data row14 col9\" >-0.037</td>\n",
              "                        <td id=\"T_19ebcf93_af12_11eb_9c44_dc8b28180898row14_col10\" class=\"data row14 col10\" >0.265</td>\n",
              "                        <td id=\"T_19ebcf93_af12_11eb_9c44_dc8b28180898row14_col11\" class=\"data row14 col11\" >-0.699</td>\n",
              "                        <td id=\"T_19ebcf93_af12_11eb_9c44_dc8b28180898row14_col12\" class=\"data row14 col12\" >-0.053</td>\n",
              "                        <td id=\"T_19ebcf93_af12_11eb_9c44_dc8b28180898row14_col13\" class=\"data row14 col13\" >0.971</td>\n",
              "                        <td id=\"T_19ebcf93_af12_11eb_9c44_dc8b28180898row14_col14\" class=\"data row14 col14\" >1.000</td>\n",
              "                        <td id=\"T_19ebcf93_af12_11eb_9c44_dc8b28180898row14_col15\" class=\"data row14 col15\" >-0.698</td>\n",
              "            </tr>\n",
              "            <tr>\n",
              "                        <th id=\"T_19ebcf93_af12_11eb_9c44_dc8b28180898level0_row15\" class=\"row_heading level0 row15\" >price</th>\n",
              "                        <td id=\"T_19ebcf93_af12_11eb_9c44_dc8b28180898row15_col0\" class=\"data row15 col0\" >-0.080</td>\n",
              "                        <td id=\"T_19ebcf93_af12_11eb_9c44_dc8b28180898row15_col1\" class=\"data row15 col1\" >0.200</td>\n",
              "                        <td id=\"T_19ebcf93_af12_11eb_9c44_dc8b28180898row15_col2\" class=\"data row15 col2\" >0.572</td>\n",
              "                        <td id=\"T_19ebcf93_af12_11eb_9c44_dc8b28180898row15_col3\" class=\"data row15 col3\" >0.679</td>\n",
              "                        <td id=\"T_19ebcf93_af12_11eb_9c44_dc8b28180898row15_col4\" class=\"data row15 col4\" >0.765</td>\n",
              "                        <td id=\"T_19ebcf93_af12_11eb_9c44_dc8b28180898row15_col5\" class=\"data row15 col5\" >0.112</td>\n",
              "                        <td id=\"T_19ebcf93_af12_11eb_9c44_dc8b28180898row15_col6\" class=\"data row15 col6\" >0.836</td>\n",
              "                        <td id=\"T_19ebcf93_af12_11eb_9c44_dc8b28180898row15_col7\" class=\"data row15 col7\" >0.871</td>\n",
              "                        <td id=\"T_19ebcf93_af12_11eb_9c44_dc8b28180898row15_col8\" class=\"data row15 col8\" >0.549</td>\n",
              "                        <td id=\"T_19ebcf93_af12_11eb_9c44_dc8b28180898row15_col9\" class=\"data row15 col9\" >0.080</td>\n",
              "                        <td id=\"T_19ebcf93_af12_11eb_9c44_dc8b28180898row15_col10\" class=\"data row15 col10\" >0.064</td>\n",
              "                        <td id=\"T_19ebcf93_af12_11eb_9c44_dc8b28180898row15_col11\" class=\"data row15 col11\" >0.725</td>\n",
              "                        <td id=\"T_19ebcf93_af12_11eb_9c44_dc8b28180898row15_col12\" class=\"data row15 col12\" >-0.084</td>\n",
              "                        <td id=\"T_19ebcf93_af12_11eb_9c44_dc8b28180898row15_col13\" class=\"data row15 col13\" >-0.691</td>\n",
              "                        <td id=\"T_19ebcf93_af12_11eb_9c44_dc8b28180898row15_col14\" class=\"data row15 col14\" >-0.698</td>\n",
              "                        <td id=\"T_19ebcf93_af12_11eb_9c44_dc8b28180898row15_col15\" class=\"data row15 col15\" >1.000</td>\n",
              "            </tr>\n",
              "    </tbody></table>"
            ],
            "text/plain": [
              "<pandas.io.formats.style.Styler at 0x1e5febe3520>"
            ]
          },
          "metadata": {
            "tags": []
          },
          "execution_count": 58
        }
      ]
    },
    {
      "cell_type": "markdown",
      "metadata": {
        "id": "YCIR0y8JWpDr"
      },
      "source": [
        "Визуализировать распределение переменной ‘Price’, рассчитать показатели skewness и kurtosis, что можно сказать о типе распределения?"
      ]
    },
    {
      "cell_type": "code",
      "metadata": {
        "id": "uuQ503mcWpDs",
        "outputId": "3192a8a5-6745-48d6-ec78-e6f92ba7e8b8"
      },
      "source": [
        "plt.hist(df['price'])\n",
        "plt.xlabel('Цена')\n",
        "plt.ylabel('Число машин')\n",
        "plt.show()"
      ],
      "execution_count": null,
      "outputs": [
        {
          "output_type": "display_data",
          "data": {
            "image/png": "[encoded data removed]",
            "text/plain": [
              "<Figure size 432x288 with 1 Axes>"
            ]
          },
          "metadata": {
            "tags": [],
            "needs_background": "light"
          }
        }
      ]
    },
    {
      "cell_type": "code",
      "metadata": {
        "id": "UvsQ-jVRWpDs",
        "outputId": "0bd4e50f-9b31-474a-df7a-409e31f9fa10"
      },
      "source": [
        "df['price'].skew()"
      ],
      "execution_count": null,
      "outputs": [
        {
          "output_type": "execute_result",
          "data": {
            "text/plain": [
              "1.7663998888191028"
            ]
          },
          "metadata": {
            "tags": []
          },
          "execution_count": 60
        }
      ]
    },
    {
      "cell_type": "code",
      "metadata": {
        "id": "lTkrQ73_WpDt",
        "outputId": "350552e4-e8a7-46d6-dc78-e104d1581986"
      },
      "source": [
        "df['price'].kurtosis()"
      ],
      "execution_count": null,
      "outputs": [
        {
          "output_type": "execute_result",
          "data": {
            "text/plain": [
              "2.948637293212561"
            ]
          },
          "metadata": {
            "tags": []
          },
          "execution_count": 61
        }
      ]
    },
    {
      "cell_type": "markdown",
      "metadata": {
        "id": "DHQuSCKPWpDt"
      },
      "source": [
        "Это экспоненциальное распределение"
      ]
    },
    {
      "cell_type": "markdown",
      "metadata": {
        "id": "O5JOtOYMWpDu"
      },
      "source": [
        "Визуализировать несколько взаимосвязей между переменными"
      ]
    },
    {
      "cell_type": "code",
      "metadata": {
        "id": "VvJVB25rWpDu",
        "outputId": "07c44304-fbd1-4c44-ec45-052a2f29b1f3"
      },
      "source": [
        "price = df['price']\n",
        "make = df['make']\n",
        "fig, ax = plt.subplots(figsize=(24,5))\n",
        "ax.scatter(make, price, c='green', alpha=0.3, edgecolors='none')\n",
        "ax.grid(True)\n",
        "plt.ylabel('price')\n",
        "plt.xlabel('make')\n",
        "plt.show()"
      ],
      "execution_count": null,
      "outputs": [
        {
          "output_type": "display_data",
          "data": {
            "image/png": "[encoded data removed]",
            "text/plain": [
              "<Figure size 1728x360 with 1 Axes>"
            ]
          },
          "metadata": {
            "tags": [],
            "needs_background": "light"
          }
        }
      ]
    },
    {
      "cell_type": "code",
      "metadata": {
        "id": "dSg4UXdpWpDu",
        "outputId": "627b854b-8672-414d-b7d7-8fe842c0004f"
      },
      "source": [
        "sns.pairplot(df[['horsepower','engine-size']])"
      ],
      "execution_count": null,
      "outputs": [
        {
          "output_type": "execute_result",
          "data": {
            "text/plain": [
              "<seaborn.axisgrid.PairGrid at 0x1e5ff2b9cd0>"
            ]
          },
          "metadata": {
            "tags": []
          },
          "execution_count": 64
        },
        {
          "output_type": "display_data",
          "data": {
            "image/png": "[encoded data removed]",
            "text/plain": [
              "<Figure size 360x360 with 6 Axes>"
            ]
          },
          "metadata": {
            "tags": [],
            "needs_background": "light"
          }
        }
      ]
    },
    {
      "cell_type": "markdown",
      "metadata": {
        "id": "ESE2yRqzWpDv"
      },
      "source": [
        "Выдвинуть несколько гипотез (2-3) по набору имеющихся переменных и проверить эти гипотезы с использованием t-test."
      ]
    },
    {
      "cell_type": "markdown",
      "metadata": {
        "id": "bj9N9X8iWpDv"
      },
      "source": [
        "Чем больше у машины размер двигателя, тем выше цена."
      ]
    },
    {
      "cell_type": "code",
      "metadata": {
        "id": "D1GvO18zWpDv",
        "outputId": "529783e0-a741-41b5-f3e2-fc1b679c2141"
      },
      "source": [
        "df['engine-size'].mean()"
      ],
      "execution_count": null,
      "outputs": [
        {
          "output_type": "execute_result",
          "data": {
            "text/plain": [
              "126.90731707317073"
            ]
          },
          "metadata": {
            "tags": []
          },
          "execution_count": 71
        }
      ]
    },
    {
      "cell_type": "code",
      "metadata": {
        "id": "lKU0vJUMWpDw",
        "outputId": "1c2c704e-1209-463f-d928-af376e32f936"
      },
      "source": [
        "price = df['price']\n",
        "less_engine=price[df['engine-size']<=126.9]\n",
        "more_engine=price[df['engine-size']>=126.9]\n",
        "print(ttest_1samp(less_engine, 0))\n",
        "ttest_1samp(more_engine, 0)"
      ],
      "execution_count": null,
      "outputs": [
        {
          "output_type": "stream",
          "text": [
            "Ttest_1sampResult(statistic=35.10529599793565, pvalue=7.217795345789567e-68)\n"
          ],
          "name": "stdout"
        },
        {
          "output_type": "execute_result",
          "data": {
            "text/plain": [
              "Ttest_1sampResult(statistic=20.238712777197836, pvalue=6.859484959801395e-32)"
            ]
          },
          "metadata": {
            "tags": []
          },
          "execution_count": 72
        }
      ]
    },
    {
      "cell_type": "code",
      "metadata": {
        "id": "85ArSfs7WpDw",
        "outputId": "ed578919-dbee-4b83-b8c1-dab30ed99d4b"
      },
      "source": [
        "df['fuel-type'].unique()"
      ],
      "execution_count": null,
      "outputs": [
        {
          "output_type": "execute_result",
          "data": {
            "text/plain": [
              "array(['gas', 'diesel'], dtype=object)"
            ]
          },
          "metadata": {
            "tags": []
          },
          "execution_count": 67
        }
      ]
    },
    {
      "cell_type": "code",
      "metadata": {
        "id": "tZ-FtVNyWpDw"
      },
      "source": [
        "consumption = df['highway-mpg']\n",
        "gas=consumption[df['fuel-type']=='gas']\n",
        "diesel=consumption[df['fuel-type']=='diesel']\n"
      ],
      "execution_count": null,
      "outputs": []
    },
    {
      "cell_type": "code",
      "metadata": {
        "id": "1zMc13FsWpDx",
        "outputId": "a8be50a2-2efe-48be-f7fe-17a8fc8bd9d3"
      },
      "source": [
        "print(ttest_1samp(gas, 0))\n",
        "ttest_1samp(diesel, 0)"
      ],
      "execution_count": null,
      "outputs": [
        {
          "output_type": "stream",
          "text": [
            "Ttest_1sampResult(statistic=62.910774888700615, pvalue=2.295474782314198e-126)\n"
          ],
          "name": "stdout"
        },
        {
          "output_type": "execute_result",
          "data": {
            "text/plain": [
              "Ttest_1sampResult(statistic=18.01607985967447, pvalue=2.1081730567138407e-13)"
            ]
          },
          "metadata": {
            "tags": []
          },
          "execution_count": 70
        }
      ]
    },
    {
      "cell_type": "markdown",
      "metadata": {
        "id": "RaX_KotDWpDx"
      },
      "source": [
        "гипотеза подтвердилась и машины с большим размером двигателя стоят в среднем дороже, чем машины с меньшей."
      ]
    },
    {
      "cell_type": "markdown",
      "metadata": {
        "id": "2h1WV1dQWpDy"
      },
      "source": [
        "Чем больше у машины лошадиных сил, тем выше цена."
      ]
    },
    {
      "cell_type": "code",
      "metadata": {
        "id": "w6sY1KVXWpDy",
        "outputId": "3889b64f-21a8-43ca-faa0-d2395bfea236"
      },
      "source": [
        "df['horsepower'].mean()"
      ],
      "execution_count": null,
      "outputs": [
        {
          "output_type": "execute_result",
          "data": {
            "text/plain": [
              "106.04878048780488"
            ]
          },
          "metadata": {
            "tags": []
          },
          "execution_count": 73
        }
      ]
    },
    {
      "cell_type": "code",
      "metadata": {
        "id": "Eg8TOamgWpDy",
        "outputId": "01f20dc6-5acb-4976-91b2-d7e58296be8e"
      },
      "source": [
        "price = df['price']\n",
        "less_horsepower=price[df['horsepower']<=106]\n",
        "more_horsepower=price[df['horsepower']>=106]\n",
        "print(ttest_1samp(less_horsepower, 0))\n",
        "ttest_1samp(more_horsepower, 0)"
      ],
      "execution_count": null,
      "outputs": [
        {
          "output_type": "stream",
          "text": [
            "Ttest_1sampResult(statistic=30.904622072959857, pvalue=1.5274477344805865e-59)\n"
          ],
          "name": "stdout"
        },
        {
          "output_type": "execute_result",
          "data": {
            "text/plain": [
              "Ttest_1sampResult(statistic=19.939307403285298, pvalue=3.424374884289838e-33)"
            ]
          },
          "metadata": {
            "tags": []
          },
          "execution_count": 74
        }
      ]
    },
    {
      "cell_type": "markdown",
      "metadata": {
        "id": "YlbOWg-tWpDz"
      },
      "source": [
        "гипотеза подтвердилась и машины с большей лошадиной силой стоят в среднем дороже, чем машины с меньшей"
      ]
    },
    {
      "cell_type": "code",
      "metadata": {
        "id": "ZD-llmfbWpDz"
      },
      "source": [
        ""
      ],
      "execution_count": null,
      "outputs": []
    }
  ]
}