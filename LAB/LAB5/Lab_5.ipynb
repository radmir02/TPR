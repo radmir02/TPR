{
 "cells": [
  {
   "cell_type": "markdown",
   "metadata": {},
   "source": [
    "Задание 1\n",
    "Напишите функцию, которая возвращает название валюты (поле ‘Name’) с максимальным значением курса с помощью сервиса https://www.cbr-xml-daily.ru/daily_json.js\n"
   ]
  },
  {
   "cell_type": "code",
   "execution_count": 58,
   "metadata": {},
   "outputs": [
    {
     "name": "stdout",
     "output_type": "stream",
     "text": [
      "СДР (специальные права заимствования)\n"
     ]
    }
   ],
   "source": [
    "import pandas as pd \n",
    "web = 'https://www.cbr-xml-daily.ru/daily_json.js'\n",
    "data = pd.read_json(web)\n",
    "valutes = pd.DataFrame(data['Valute'].tolist())\n",
    "print(valutes[valutes['Value'] == valutes['Value'].max()]['Name'].tolist()[0])"
   ]
  },
  {
   "cell_type": "markdown",
   "metadata": {},
   "source": [
    "Задание 2\n",
    "Добавьте в класс Rate параметр diff (со значениями True или False), который в случае значения True в методах курсов валют (eur, usd итд) будет возвращать не курс валюты, а изменение по сравнению в прошлым значением. Считайте, self.diff будет принимать значение True только при возврате значения курса. При отображении всей информации о валюте он не используется."
   ]
  },
  {
   "cell_type": "code",
   "execution_count": 66,
   "metadata": {},
   "outputs": [],
   "source": [
    "# класс Rate\n",
    "class Rate():\n",
    "    def __init__(self, id, numcode, charcode, nominal, name, value, previous, diff=False):\n",
    "        self.id = id\n",
    "        self.numcode = numcode\n",
    "        self.charcode = charcode\n",
    "        self.nominal = nominal\n",
    "        self.name = name\n",
    "        self.value = value\n",
    "        self.previous = previous\n",
    "        self.diff = diff\n",
    "\n",
    "    def information(self):\n",
    "        print('Информация о валюте \"{}\"'.format(self.name))\n",
    "        print('Идентификатор: {}'.format(self.id))\n",
    "        print('Номер: {}'.format(self.numcode))\n",
    "        print('Код: {}'.format(self.charcode))\n",
    "        print('Номинал: {}'.format(self.nominal))\n",
    "        print('Текущее значение: {}'.format(self.value))\n",
    "        print('Предыдущее значение: {}\\n'.format(self.previous))\n",
    "    \n",
    "    def diff_delta(self):\n",
    "        return self.value - self.previous if self.diff else self.value\n",
    "    \n",
    "    def course_info(self):\n",
    "        info_label = 'Текущий курс: '\n",
    "        if self.diff:\n",
    "            sign = '+' if self.diff_delta() > 0 else ''\n",
    "            info_label = 'Изменение: '+sign\n",
    "        print('{}{}'.format(info_label, self.diff_delta()))"
   ]
  },
  {
   "cell_type": "code",
   "execution_count": 67,
   "metadata": {},
   "outputs": [
    {
     "name": "stdout",
     "output_type": "stream",
     "text": [
      "Информация о валюте \"Доллары\"\n",
      "ID: 01\n",
      "Номер: 01\n",
      "Код: USD\n",
      "Номинал: 1000\n",
      "Текущее значение: 131\n",
      "Предыдущее значение: 120\n",
      "\n",
      "Текущий курс: 131\n"
     ]
    }
   ],
   "source": [
    "usd = Rate('01', '01', 'USD', 1000, 'Доллары', 131, 120, False)\n",
    "usd.information()\n",
    "usd.course_info()"
   ]
  },
  {
   "cell_type": "code",
   "execution_count": 68,
   "metadata": {},
   "outputs": [
    {
     "name": "stdout",
     "output_type": "stream",
     "text": [
      "Информация о валюте \"Доллары\"\n",
      "ID: 01\n",
      "Номер: 01\n",
      "Код: USD\n",
      "Номинал: 1000\n",
      "Текущее значение: 131\n",
      "Предыдущее значение: 120\n",
      "\n",
      "Изменение: +11\n"
     ]
    }
   ],
   "source": [
    "usd = Rate('01', '01', 'USD', 1000, 'Доллары', 131, 120, True)\n",
    "usd.information()\n",
    "usd.course_info()"
   ]
  },
  {
   "cell_type": "markdown",
   "metadata": {},
   "source": [
    "Задание 3\n",
    "Напишите класс Designer, который учитывает количество международных премий для дизайнеров (из презентации: \"Повышение на 1 грейд за каждые 7 баллов. Получение международной премии – это +2 балла\" для каждой аккредитации увеличиваем счетчик на 1, пока считаем, что все дизайнеры проходят аккредитацию). Считайте, что при выходе на работу сотрудник уже имеет две премии и их количество меняется со стажем (получение премии генератор случайных чисел ). Выполните проверку для 20 аккредитаций дизайнера Елены. Подсказки в коде занятия в разделе “Домашнее задание задача 3”."
   ]
  },
  {
   "cell_type": "code",
   "execution_count": 55,
   "metadata": {},
   "outputs": [],
   "source": [
    "class Designer():\n",
    "    def __init__(self, name, seniority=0,awards=0):\n",
    "        self.name = name\n",
    "        self.seniority = seniority\n",
    "        self.awards = awards\n",
    "        self.score = awards*2\n",
    "    \n",
    "    def acreditation(self):\n",
    "        print(\"+1 балл для дизайнера \", self.name)\n",
    "        self.score += 1\n",
    "    \n",
    "    def add_award(self):\n",
    "        self.awards += 1\n",
    "        self.score += 2\n",
    "    \n",
    "    def upgrade(self):\n",
    "        self.seniority = self.score // 7\n",
    "    \n",
    "    def info(self):\n",
    "        print('\\n|--Информация о дизайнере {}--|'.format(self.name))\n",
    "        print('Грейд: {}'.format(self.seniority))\n",
    "        print('Наград: {}\\n'.format(self.awards))\n"
   ]
  },
  {
   "cell_type": "markdown",
   "metadata": {},
   "source": [
    "## Код проверки"
   ]
  },
  {
   "cell_type": "code",
   "execution_count": 56,
   "metadata": {},
   "outputs": [
    {
     "name": "stdout",
     "output_type": "stream",
     "text": [
      "\n",
      "|--Информация о дизайнере Елена--|\n",
      "Грейд: 0\n",
      "Наград: 2\n",
      "\n",
      "Сейчас проходит аккредитацию, Елена\n",
      "+1 балл для дизайнера  Елена\n",
      "+1 балл для дизайнера  Елена\n",
      "+1 балл для дизайнера  Елена\n",
      "+1 балл для дизайнера  Елена\n",
      "+1 балл для дизайнера  Елена\n",
      "+1 балл для дизайнера  Елена\n",
      "+1 балл для дизайнера  Елена\n",
      "+1 балл для дизайнера  Елена\n",
      "+1 балл для дизайнера  Елена\n",
      "+1 балл для дизайнера  Елена\n",
      "+1 балл для дизайнера  Елена\n",
      "+1 балл для дизайнера  Елена\n",
      "+1 балл для дизайнера  Елена\n",
      "+1 балл для дизайнера  Елена\n",
      "+1 балл для дизайнера  Елена\n",
      "+1 балл для дизайнера  Елена\n",
      "+1 балл для дизайнера  Елена\n",
      "+1 балл для дизайнера  Елена\n",
      "+1 балл для дизайнера  Елена\n",
      "+1 балл для дизайнера  Елена\n",
      "\n",
      "|--Информация о дизайнере Елена--|\n",
      "Грейд: 3\n",
      "Наград: 2\n",
      "\n"
     ]
    }
   ],
   "source": [
    "elena = Designer('Елена', seniority=0, awards=2)\n",
    "elena.info()\n",
    "print(\"Сейчас проходит аккредитацию,\", elena.name)\n",
    "for i in range(20):\n",
    "    elena.acreditation()\n",
    "\n",
    "elena.upgrade()\n",
    "elena.info()\n"
   ]
  }
 ],
 "metadata": {
  "kernelspec": {
   "display_name": "Python 3",
   "language": "python",
   "name": "python3"
  },
  "language_info": {
   "codemirror_mode": {
    "name": "ipython",
    "version": 3
   },
   "file_extension": ".py",
   "mimetype": "text/x-python",
   "name": "python",
   "nbconvert_exporter": "python",
   "pygments_lexer": "ipython3",
   "version": "3.8.3"
  }
 },
 "nbformat": 4,
 "nbformat_minor": 4
}
